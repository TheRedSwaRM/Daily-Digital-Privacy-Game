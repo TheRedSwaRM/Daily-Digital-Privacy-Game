{
  "nbformat": 4,
  "nbformat_minor": 0,
  "metadata": {
    "colab": {
      "provenance": []
    },
    "kernelspec": {
      "name": "python3",
      "display_name": "Python 3"
    },
    "language_info": {
      "name": "python"
    }
  },
  "cells": [
    {
      "cell_type": "markdown",
      "source": [
        "# CS 199 Data Analysis"
      ],
      "metadata": {
        "id": "N0psG31FEXmD"
      }
    },
    {
      "cell_type": "markdown",
      "source": [
        "# Preliminaries"
      ],
      "metadata": {
        "id": "fn2_1rYFLp7S"
      }
    },
    {
      "cell_type": "markdown",
      "source": [
        "Retrieving Sheets"
      ],
      "metadata": {
        "id": "UETnCwSxEdYm"
      }
    },
    {
      "cell_type": "code",
      "source": [
        "%%capture\n",
        "!pip install emoji --upgrade"
      ],
      "metadata": {
        "id": "s9QXkxgyEGqL"
      },
      "execution_count": 1,
      "outputs": []
    },
    {
      "cell_type": "code",
      "source": [
        "from google.colab import auth\n",
        "import gspread\n",
        "from google.auth import default\n",
        "\n",
        "import pandas as pd\n",
        "import numpy as np\n",
        "import networkx as nx\n",
        "import matplotlib.pyplot as plt\n",
        "import seaborn as sns\n",
        "import re\n",
        "import emoji\n",
        "\n",
        "from sklearn.feature_extraction.text import CountVectorizer\n",
        "import nltk\n",
        "from nltk.stem import PorterStemmer, WordNetLemmatizer\n",
        "from nltk.tokenize import word_tokenize\n",
        "from nltk.corpus import stopwords\n",
        "nltk.download('stopwords')\n",
        "nltk.download('punkt')\n",
        "nltk.download('wordnet')\n",
        "\n",
        "from sklearn.feature_extraction.text import TfidfVectorizer\n",
        "from sklearn import decomposition\n",
        "\n",
        "from scipy import stats"
      ],
      "metadata": {
        "id": "BOxU-4RRHLgr",
        "colab": {
          "base_uri": "https://localhost:8080/"
        },
        "outputId": "89cf3c12-6242-4202-c422-c3b3423afc74"
      },
      "execution_count": 2,
      "outputs": [
        {
          "output_type": "stream",
          "name": "stderr",
          "text": [
            "[nltk_data] Downloading package stopwords to /root/nltk_data...\n",
            "[nltk_data]   Unzipping corpora/stopwords.zip.\n",
            "[nltk_data] Downloading package punkt to /root/nltk_data...\n",
            "[nltk_data]   Unzipping tokenizers/punkt.zip.\n",
            "[nltk_data] Downloading package wordnet to /root/nltk_data...\n"
          ]
        }
      ]
    },
    {
      "cell_type": "code",
      "source": [
        "auth.authenticate_user()\n",
        "\n",
        "creds, _ = default()\n",
        "\n",
        "gc = gspread.authorize(creds)\n",
        "\n",
        "pregame_response = gc.open('Pre-Game Questionnaire: Daily Data Privacy Game (Responses)').sheet1\n",
        "postgame_response = gc.open('Post-Game Questionnaire: Daily Data Privacy Game (Responses)').sheet1\n",
        "\n",
        "# get_all_values gives a list of rows.\n",
        "pregame_rows = pregame_response.get_all_values()\n",
        "postgame_rows = postgame_response.get_all_values()\n",
        "\n",
        "# Create DataFrames\n",
        "df_pregame = pd.DataFrame(pregame_rows[1:], columns=pregame_rows[0])\n",
        "df_postgame = pd.DataFrame(postgame_rows[1:], columns=postgame_rows[0])"
      ],
      "metadata": {
        "id": "zhapzc2_Gapc"
      },
      "execution_count": 3,
      "outputs": []
    },
    {
      "cell_type": "code",
      "source": [
        "df_pregame = df_pregame.drop_duplicates('Email', keep = 'last')\n",
        "df_postgame = df_postgame.drop_duplicates('Email', keep = 'last')\n"
      ],
      "metadata": {
        "id": "lMnXJT8aPNNm"
      },
      "execution_count": 4,
      "outputs": []
    },
    {
      "cell_type": "markdown",
      "source": [
        "Responses from pre-game questionnaire."
      ],
      "metadata": {
        "id": "JkR-kVwhH23d"
      }
    },
    {
      "cell_type": "code",
      "source": [
        "df_pregame.head(2)"
      ],
      "metadata": {
        "id": "durlV7C8HRrc",
        "colab": {
          "base_uri": "https://localhost:8080/",
          "height": 957
        },
        "outputId": "4d4a2dbb-c076-49b8-dd9a-86690a29672c"
      },
      "execution_count": 5,
      "outputs": [
        {
          "output_type": "execute_result",
          "data": {
            "text/plain": [
              "            Timestamp  \\\n",
              "0  6/28/2023 19:06:21   \n",
              "1  6/28/2023 19:12:01   \n",
              "\n",
              "  In compliance with the Data Privacy Act of 2012 (RA10173) and its Implementing Rules and Regulations, I am allowing Julian Dycaico and Hans Olaño from the University of the Philippines - Diliman to store and use my data as part of their research study.   \\n\\nBy using the survey form you give us permission to collect/use your information for research purposes only.  \\\n",
              "0                      Yes, I agree and give consent                                                                                                                                                                                                                                                                                                                               \n",
              "1                      Yes, I agree and give consent                                                                                                                                                                                                                                                                                                                               \n",
              "\n",
              "         Name                    Email Year of Birth  \\\n",
              "0  Russel Ang  russel_john01@yahoo.com          2000   \n",
              "1         Tim           tcdy@up.edu.ph          2001   \n",
              "\n",
              "  In general, how much time do you spend on social media (Facebook, Tiktok, Instagram, etc. daily?  \\\n",
              "0                               Several times a day.                                                 \n",
              "1                               Several times a day.                                                 \n",
              "\n",
              "   Which social media platforms do you use?  \\\n",
              "0  Facebook, Youtube, Discord, and Twitter.   \n",
              "1     Facebook, Twitter, Instagram, YouTube   \n",
              "\n",
              "  Do you know the Data Privacy Act of 2012?  \\\n",
              "0                                        No   \n",
              "1                                       Yes   \n",
              "\n",
              "  If yes, as best as you can, can you give a short description on what you know about it? If no put \"N/A\".  \\\n",
              "0                                                N/A                                                         \n",
              "1  Researchers can only use the data provided by ...                                                         \n",
              "\n",
              "  App Permission Username Selection Photo Selection Caption Selection  \\\n",
              "0              4                  2               2                 2   \n",
              "1              4                  2               3                 4   \n",
              "\n",
              "  Location Data Post Visibility Removal of Tags Persuasive Features  \\\n",
              "0             3               4               2                   4   \n",
              "1             4               4               4                   1   \n",
              "\n",
              "  Tagging Behavior  \n",
              "0                3  \n",
              "1                4  "
            ],
            "text/html": [
              "\n",
              "\n",
              "  <div id=\"df-eefe6dd9-3335-48ce-b029-bc84e1e0342a\">\n",
              "    <div class=\"colab-df-container\">\n",
              "      <div>\n",
              "<style scoped>\n",
              "    .dataframe tbody tr th:only-of-type {\n",
              "        vertical-align: middle;\n",
              "    }\n",
              "\n",
              "    .dataframe tbody tr th {\n",
              "        vertical-align: top;\n",
              "    }\n",
              "\n",
              "    .dataframe thead th {\n",
              "        text-align: right;\n",
              "    }\n",
              "</style>\n",
              "<table border=\"1\" class=\"dataframe\">\n",
              "  <thead>\n",
              "    <tr style=\"text-align: right;\">\n",
              "      <th></th>\n",
              "      <th>Timestamp</th>\n",
              "      <th>In compliance with the Data Privacy Act of 2012 (RA10173) and its Implementing Rules and Regulations, I am allowing Julian Dycaico and Hans Olaño from the University of the Philippines - Diliman to store and use my data as part of their research study.   \\n\\nBy using the survey form you give us permission to collect/use your information for research purposes only.</th>\n",
              "      <th>Name</th>\n",
              "      <th>Email</th>\n",
              "      <th>Year of Birth</th>\n",
              "      <th>In general, how much time do you spend on social media (Facebook, Tiktok, Instagram, etc. daily?</th>\n",
              "      <th>Which social media platforms do you use?</th>\n",
              "      <th>Do you know the Data Privacy Act of 2012?</th>\n",
              "      <th>If yes, as best as you can, can you give a short description on what you know about it? If no put \"N/A\".</th>\n",
              "      <th>App Permission</th>\n",
              "      <th>Username Selection</th>\n",
              "      <th>Photo Selection</th>\n",
              "      <th>Caption Selection</th>\n",
              "      <th>Location Data</th>\n",
              "      <th>Post Visibility</th>\n",
              "      <th>Removal of Tags</th>\n",
              "      <th>Persuasive Features</th>\n",
              "      <th>Tagging Behavior</th>\n",
              "    </tr>\n",
              "  </thead>\n",
              "  <tbody>\n",
              "    <tr>\n",
              "      <th>0</th>\n",
              "      <td>6/28/2023 19:06:21</td>\n",
              "      <td>Yes, I agree and give consent</td>\n",
              "      <td>Russel Ang</td>\n",
              "      <td>russel_john01@yahoo.com</td>\n",
              "      <td>2000</td>\n",
              "      <td>Several times a day.</td>\n",
              "      <td>Facebook, Youtube, Discord, and Twitter.</td>\n",
              "      <td>No</td>\n",
              "      <td>N/A</td>\n",
              "      <td>4</td>\n",
              "      <td>2</td>\n",
              "      <td>2</td>\n",
              "      <td>2</td>\n",
              "      <td>3</td>\n",
              "      <td>4</td>\n",
              "      <td>2</td>\n",
              "      <td>4</td>\n",
              "      <td>3</td>\n",
              "    </tr>\n",
              "    <tr>\n",
              "      <th>1</th>\n",
              "      <td>6/28/2023 19:12:01</td>\n",
              "      <td>Yes, I agree and give consent</td>\n",
              "      <td>Tim</td>\n",
              "      <td>tcdy@up.edu.ph</td>\n",
              "      <td>2001</td>\n",
              "      <td>Several times a day.</td>\n",
              "      <td>Facebook, Twitter, Instagram, YouTube</td>\n",
              "      <td>Yes</td>\n",
              "      <td>Researchers can only use the data provided by ...</td>\n",
              "      <td>4</td>\n",
              "      <td>2</td>\n",
              "      <td>3</td>\n",
              "      <td>4</td>\n",
              "      <td>4</td>\n",
              "      <td>4</td>\n",
              "      <td>4</td>\n",
              "      <td>1</td>\n",
              "      <td>4</td>\n",
              "    </tr>\n",
              "  </tbody>\n",
              "</table>\n",
              "</div>\n",
              "      <button class=\"colab-df-convert\" onclick=\"convertToInteractive('df-eefe6dd9-3335-48ce-b029-bc84e1e0342a')\"\n",
              "              title=\"Convert this dataframe to an interactive table.\"\n",
              "              style=\"display:none;\">\n",
              "\n",
              "  <svg xmlns=\"http://www.w3.org/2000/svg\" height=\"24px\"viewBox=\"0 0 24 24\"\n",
              "       width=\"24px\">\n",
              "    <path d=\"M0 0h24v24H0V0z\" fill=\"none\"/>\n",
              "    <path d=\"M18.56 5.44l.94 2.06.94-2.06 2.06-.94-2.06-.94-.94-2.06-.94 2.06-2.06.94zm-11 1L8.5 8.5l.94-2.06 2.06-.94-2.06-.94L8.5 2.5l-.94 2.06-2.06.94zm10 10l.94 2.06.94-2.06 2.06-.94-2.06-.94-.94-2.06-.94 2.06-2.06.94z\"/><path d=\"M17.41 7.96l-1.37-1.37c-.4-.4-.92-.59-1.43-.59-.52 0-1.04.2-1.43.59L10.3 9.45l-7.72 7.72c-.78.78-.78 2.05 0 2.83L4 21.41c.39.39.9.59 1.41.59.51 0 1.02-.2 1.41-.59l7.78-7.78 2.81-2.81c.8-.78.8-2.07 0-2.86zM5.41 20L4 18.59l7.72-7.72 1.47 1.35L5.41 20z\"/>\n",
              "  </svg>\n",
              "      </button>\n",
              "\n",
              "\n",
              "\n",
              "    <div id=\"df-44a1c142-c3d6-4467-8d72-a3b6071b42c8\">\n",
              "      <button class=\"colab-df-quickchart\" onclick=\"quickchart('df-44a1c142-c3d6-4467-8d72-a3b6071b42c8')\"\n",
              "              title=\"Suggest charts.\"\n",
              "              style=\"display:none;\">\n",
              "\n",
              "<svg xmlns=\"http://www.w3.org/2000/svg\" height=\"24px\"viewBox=\"0 0 24 24\"\n",
              "     width=\"24px\">\n",
              "    <g>\n",
              "        <path d=\"M19 3H5c-1.1 0-2 .9-2 2v14c0 1.1.9 2 2 2h14c1.1 0 2-.9 2-2V5c0-1.1-.9-2-2-2zM9 17H7v-7h2v7zm4 0h-2V7h2v10zm4 0h-2v-4h2v4z\"/>\n",
              "    </g>\n",
              "</svg>\n",
              "      </button>\n",
              "    </div>\n",
              "\n",
              "<style>\n",
              "  .colab-df-quickchart {\n",
              "    background-color: #E8F0FE;\n",
              "    border: none;\n",
              "    border-radius: 50%;\n",
              "    cursor: pointer;\n",
              "    display: none;\n",
              "    fill: #1967D2;\n",
              "    height: 32px;\n",
              "    padding: 0 0 0 0;\n",
              "    width: 32px;\n",
              "  }\n",
              "\n",
              "  .colab-df-quickchart:hover {\n",
              "    background-color: #E2EBFA;\n",
              "    box-shadow: 0px 1px 2px rgba(60, 64, 67, 0.3), 0px 1px 3px 1px rgba(60, 64, 67, 0.15);\n",
              "    fill: #174EA6;\n",
              "  }\n",
              "\n",
              "  [theme=dark] .colab-df-quickchart {\n",
              "    background-color: #3B4455;\n",
              "    fill: #D2E3FC;\n",
              "  }\n",
              "\n",
              "  [theme=dark] .colab-df-quickchart:hover {\n",
              "    background-color: #434B5C;\n",
              "    box-shadow: 0px 1px 3px 1px rgba(0, 0, 0, 0.15);\n",
              "    filter: drop-shadow(0px 1px 2px rgba(0, 0, 0, 0.3));\n",
              "    fill: #FFFFFF;\n",
              "  }\n",
              "</style>\n",
              "\n",
              "    <script>\n",
              "      async function quickchart(key) {\n",
              "        const containerElement = document.querySelector('#' + key);\n",
              "        const charts = await google.colab.kernel.invokeFunction(\n",
              "            'suggestCharts', [key], {});\n",
              "      }\n",
              "    </script>\n",
              "\n",
              "      <script>\n",
              "\n",
              "function displayQuickchartButton(domScope) {\n",
              "  let quickchartButtonEl =\n",
              "    domScope.querySelector('#df-44a1c142-c3d6-4467-8d72-a3b6071b42c8 button.colab-df-quickchart');\n",
              "  quickchartButtonEl.style.display =\n",
              "    google.colab.kernel.accessAllowed ? 'block' : 'none';\n",
              "}\n",
              "\n",
              "        displayQuickchartButton(document);\n",
              "      </script>\n",
              "      <style>\n",
              "    .colab-df-container {\n",
              "      display:flex;\n",
              "      flex-wrap:wrap;\n",
              "      gap: 12px;\n",
              "    }\n",
              "\n",
              "    .colab-df-convert {\n",
              "      background-color: #E8F0FE;\n",
              "      border: none;\n",
              "      border-radius: 50%;\n",
              "      cursor: pointer;\n",
              "      display: none;\n",
              "      fill: #1967D2;\n",
              "      height: 32px;\n",
              "      padding: 0 0 0 0;\n",
              "      width: 32px;\n",
              "    }\n",
              "\n",
              "    .colab-df-convert:hover {\n",
              "      background-color: #E2EBFA;\n",
              "      box-shadow: 0px 1px 2px rgba(60, 64, 67, 0.3), 0px 1px 3px 1px rgba(60, 64, 67, 0.15);\n",
              "      fill: #174EA6;\n",
              "    }\n",
              "\n",
              "    [theme=dark] .colab-df-convert {\n",
              "      background-color: #3B4455;\n",
              "      fill: #D2E3FC;\n",
              "    }\n",
              "\n",
              "    [theme=dark] .colab-df-convert:hover {\n",
              "      background-color: #434B5C;\n",
              "      box-shadow: 0px 1px 3px 1px rgba(0, 0, 0, 0.15);\n",
              "      filter: drop-shadow(0px 1px 2px rgba(0, 0, 0, 0.3));\n",
              "      fill: #FFFFFF;\n",
              "    }\n",
              "  </style>\n",
              "\n",
              "      <script>\n",
              "        const buttonEl =\n",
              "          document.querySelector('#df-eefe6dd9-3335-48ce-b029-bc84e1e0342a button.colab-df-convert');\n",
              "        buttonEl.style.display =\n",
              "          google.colab.kernel.accessAllowed ? 'block' : 'none';\n",
              "\n",
              "        async function convertToInteractive(key) {\n",
              "          const element = document.querySelector('#df-eefe6dd9-3335-48ce-b029-bc84e1e0342a');\n",
              "          const dataTable =\n",
              "            await google.colab.kernel.invokeFunction('convertToInteractive',\n",
              "                                                     [key], {});\n",
              "          if (!dataTable) return;\n",
              "\n",
              "          const docLinkHtml = 'Like what you see? Visit the ' +\n",
              "            '<a target=\"_blank\" href=https://colab.research.google.com/notebooks/data_table.ipynb>data table notebook</a>'\n",
              "            + ' to learn more about interactive tables.';\n",
              "          element.innerHTML = '';\n",
              "          dataTable['output_type'] = 'display_data';\n",
              "          await google.colab.output.renderOutput(dataTable, element);\n",
              "          const docLink = document.createElement('div');\n",
              "          docLink.innerHTML = docLinkHtml;\n",
              "          element.appendChild(docLink);\n",
              "        }\n",
              "      </script>\n",
              "    </div>\n",
              "  </div>\n"
            ]
          },
          "metadata": {},
          "execution_count": 5
        }
      ]
    },
    {
      "cell_type": "markdown",
      "source": [
        "Responses from post-game questionnaire."
      ],
      "metadata": {
        "id": "LRGW1bPZH5XW"
      }
    },
    {
      "cell_type": "code",
      "source": [
        "df_postgame.head(2)"
      ],
      "metadata": {
        "id": "i2k8s_UyHpGn",
        "colab": {
          "base_uri": "https://localhost:8080/",
          "height": 399
        },
        "outputId": "9732309a-55aa-44d7-deb4-932ed869811a"
      },
      "execution_count": 6,
      "outputs": [
        {
          "output_type": "execute_result",
          "data": {
            "text/plain": [
              "            Timestamp  \\\n",
              "0  6/28/2023 19:13:09   \n",
              "1  6/28/2023 19:28:35   \n",
              "\n",
              "  In compliance with the Data Privacy Act of 2012 (RA10173) and its Implementing Rules and Regulations, I am allowing Julian Dycaico and Hans Olaño from the University of the Philippines - Diliman to store and use my data as part of their research study.   \\n\\nBy using the survey form you give us permission to collect/use your information for research purposes only.  \\\n",
              "0                      Yes, I agree and give consent                                                                                                                                                                                                                                                                                                                               \n",
              "1                      Yes, I agree and give consent                                                                                                                                                                                                                                                                                                                               \n",
              "\n",
              "         Name                    Email App Permission Username Selection  \\\n",
              "0  Russel Ang  russel_john01@yahoo.com              5                  4   \n",
              "1               a.l.a.tecson@gmail.com              4                  4   \n",
              "\n",
              "  Photo Selection Caption Selection Location Data Post Visibility  \\\n",
              "0               3                 3             5               4   \n",
              "1               4                 4             4               4   \n",
              "\n",
              "  Removal of Tags Persuasive Features Tagging Behavior  \\\n",
              "0               3                   1                3   \n",
              "1               4                   4                4   \n",
              "\n",
              "  Do you have any realizations you would like to share regarding the possible risks on use of social media?  \n",
              "0       i did not know how much a caption can reveal                                                         \n",
              "1  Im aware of the risks, but I dont necessarily ...                                                         "
            ],
            "text/html": [
              "\n",
              "\n",
              "  <div id=\"df-1d7afc30-be3b-453d-90da-af687fe63c12\">\n",
              "    <div class=\"colab-df-container\">\n",
              "      <div>\n",
              "<style scoped>\n",
              "    .dataframe tbody tr th:only-of-type {\n",
              "        vertical-align: middle;\n",
              "    }\n",
              "\n",
              "    .dataframe tbody tr th {\n",
              "        vertical-align: top;\n",
              "    }\n",
              "\n",
              "    .dataframe thead th {\n",
              "        text-align: right;\n",
              "    }\n",
              "</style>\n",
              "<table border=\"1\" class=\"dataframe\">\n",
              "  <thead>\n",
              "    <tr style=\"text-align: right;\">\n",
              "      <th></th>\n",
              "      <th>Timestamp</th>\n",
              "      <th>In compliance with the Data Privacy Act of 2012 (RA10173) and its Implementing Rules and Regulations, I am allowing Julian Dycaico and Hans Olaño from the University of the Philippines - Diliman to store and use my data as part of their research study.   \\n\\nBy using the survey form you give us permission to collect/use your information for research purposes only.</th>\n",
              "      <th>Name</th>\n",
              "      <th>Email</th>\n",
              "      <th>App Permission</th>\n",
              "      <th>Username Selection</th>\n",
              "      <th>Photo Selection</th>\n",
              "      <th>Caption Selection</th>\n",
              "      <th>Location Data</th>\n",
              "      <th>Post Visibility</th>\n",
              "      <th>Removal of Tags</th>\n",
              "      <th>Persuasive Features</th>\n",
              "      <th>Tagging Behavior</th>\n",
              "      <th>Do you have any realizations you would like to share regarding the possible risks on use of social media?</th>\n",
              "    </tr>\n",
              "  </thead>\n",
              "  <tbody>\n",
              "    <tr>\n",
              "      <th>0</th>\n",
              "      <td>6/28/2023 19:13:09</td>\n",
              "      <td>Yes, I agree and give consent</td>\n",
              "      <td>Russel Ang</td>\n",
              "      <td>russel_john01@yahoo.com</td>\n",
              "      <td>5</td>\n",
              "      <td>4</td>\n",
              "      <td>3</td>\n",
              "      <td>3</td>\n",
              "      <td>5</td>\n",
              "      <td>4</td>\n",
              "      <td>3</td>\n",
              "      <td>1</td>\n",
              "      <td>3</td>\n",
              "      <td>i did not know how much a caption can reveal</td>\n",
              "    </tr>\n",
              "    <tr>\n",
              "      <th>1</th>\n",
              "      <td>6/28/2023 19:28:35</td>\n",
              "      <td>Yes, I agree and give consent</td>\n",
              "      <td></td>\n",
              "      <td>a.l.a.tecson@gmail.com</td>\n",
              "      <td>4</td>\n",
              "      <td>4</td>\n",
              "      <td>4</td>\n",
              "      <td>4</td>\n",
              "      <td>4</td>\n",
              "      <td>4</td>\n",
              "      <td>4</td>\n",
              "      <td>4</td>\n",
              "      <td>4</td>\n",
              "      <td>Im aware of the risks, but I dont necessarily ...</td>\n",
              "    </tr>\n",
              "  </tbody>\n",
              "</table>\n",
              "</div>\n",
              "      <button class=\"colab-df-convert\" onclick=\"convertToInteractive('df-1d7afc30-be3b-453d-90da-af687fe63c12')\"\n",
              "              title=\"Convert this dataframe to an interactive table.\"\n",
              "              style=\"display:none;\">\n",
              "\n",
              "  <svg xmlns=\"http://www.w3.org/2000/svg\" height=\"24px\"viewBox=\"0 0 24 24\"\n",
              "       width=\"24px\">\n",
              "    <path d=\"M0 0h24v24H0V0z\" fill=\"none\"/>\n",
              "    <path d=\"M18.56 5.44l.94 2.06.94-2.06 2.06-.94-2.06-.94-.94-2.06-.94 2.06-2.06.94zm-11 1L8.5 8.5l.94-2.06 2.06-.94-2.06-.94L8.5 2.5l-.94 2.06-2.06.94zm10 10l.94 2.06.94-2.06 2.06-.94-2.06-.94-.94-2.06-.94 2.06-2.06.94z\"/><path d=\"M17.41 7.96l-1.37-1.37c-.4-.4-.92-.59-1.43-.59-.52 0-1.04.2-1.43.59L10.3 9.45l-7.72 7.72c-.78.78-.78 2.05 0 2.83L4 21.41c.39.39.9.59 1.41.59.51 0 1.02-.2 1.41-.59l7.78-7.78 2.81-2.81c.8-.78.8-2.07 0-2.86zM5.41 20L4 18.59l7.72-7.72 1.47 1.35L5.41 20z\"/>\n",
              "  </svg>\n",
              "      </button>\n",
              "\n",
              "\n",
              "\n",
              "    <div id=\"df-445ea9d5-1449-478a-ac85-3096fb8a89b7\">\n",
              "      <button class=\"colab-df-quickchart\" onclick=\"quickchart('df-445ea9d5-1449-478a-ac85-3096fb8a89b7')\"\n",
              "              title=\"Suggest charts.\"\n",
              "              style=\"display:none;\">\n",
              "\n",
              "<svg xmlns=\"http://www.w3.org/2000/svg\" height=\"24px\"viewBox=\"0 0 24 24\"\n",
              "     width=\"24px\">\n",
              "    <g>\n",
              "        <path d=\"M19 3H5c-1.1 0-2 .9-2 2v14c0 1.1.9 2 2 2h14c1.1 0 2-.9 2-2V5c0-1.1-.9-2-2-2zM9 17H7v-7h2v7zm4 0h-2V7h2v10zm4 0h-2v-4h2v4z\"/>\n",
              "    </g>\n",
              "</svg>\n",
              "      </button>\n",
              "    </div>\n",
              "\n",
              "<style>\n",
              "  .colab-df-quickchart {\n",
              "    background-color: #E8F0FE;\n",
              "    border: none;\n",
              "    border-radius: 50%;\n",
              "    cursor: pointer;\n",
              "    display: none;\n",
              "    fill: #1967D2;\n",
              "    height: 32px;\n",
              "    padding: 0 0 0 0;\n",
              "    width: 32px;\n",
              "  }\n",
              "\n",
              "  .colab-df-quickchart:hover {\n",
              "    background-color: #E2EBFA;\n",
              "    box-shadow: 0px 1px 2px rgba(60, 64, 67, 0.3), 0px 1px 3px 1px rgba(60, 64, 67, 0.15);\n",
              "    fill: #174EA6;\n",
              "  }\n",
              "\n",
              "  [theme=dark] .colab-df-quickchart {\n",
              "    background-color: #3B4455;\n",
              "    fill: #D2E3FC;\n",
              "  }\n",
              "\n",
              "  [theme=dark] .colab-df-quickchart:hover {\n",
              "    background-color: #434B5C;\n",
              "    box-shadow: 0px 1px 3px 1px rgba(0, 0, 0, 0.15);\n",
              "    filter: drop-shadow(0px 1px 2px rgba(0, 0, 0, 0.3));\n",
              "    fill: #FFFFFF;\n",
              "  }\n",
              "</style>\n",
              "\n",
              "    <script>\n",
              "      async function quickchart(key) {\n",
              "        const containerElement = document.querySelector('#' + key);\n",
              "        const charts = await google.colab.kernel.invokeFunction(\n",
              "            'suggestCharts', [key], {});\n",
              "      }\n",
              "    </script>\n",
              "\n",
              "      <script>\n",
              "\n",
              "function displayQuickchartButton(domScope) {\n",
              "  let quickchartButtonEl =\n",
              "    domScope.querySelector('#df-445ea9d5-1449-478a-ac85-3096fb8a89b7 button.colab-df-quickchart');\n",
              "  quickchartButtonEl.style.display =\n",
              "    google.colab.kernel.accessAllowed ? 'block' : 'none';\n",
              "}\n",
              "\n",
              "        displayQuickchartButton(document);\n",
              "      </script>\n",
              "      <style>\n",
              "    .colab-df-container {\n",
              "      display:flex;\n",
              "      flex-wrap:wrap;\n",
              "      gap: 12px;\n",
              "    }\n",
              "\n",
              "    .colab-df-convert {\n",
              "      background-color: #E8F0FE;\n",
              "      border: none;\n",
              "      border-radius: 50%;\n",
              "      cursor: pointer;\n",
              "      display: none;\n",
              "      fill: #1967D2;\n",
              "      height: 32px;\n",
              "      padding: 0 0 0 0;\n",
              "      width: 32px;\n",
              "    }\n",
              "\n",
              "    .colab-df-convert:hover {\n",
              "      background-color: #E2EBFA;\n",
              "      box-shadow: 0px 1px 2px rgba(60, 64, 67, 0.3), 0px 1px 3px 1px rgba(60, 64, 67, 0.15);\n",
              "      fill: #174EA6;\n",
              "    }\n",
              "\n",
              "    [theme=dark] .colab-df-convert {\n",
              "      background-color: #3B4455;\n",
              "      fill: #D2E3FC;\n",
              "    }\n",
              "\n",
              "    [theme=dark] .colab-df-convert:hover {\n",
              "      background-color: #434B5C;\n",
              "      box-shadow: 0px 1px 3px 1px rgba(0, 0, 0, 0.15);\n",
              "      filter: drop-shadow(0px 1px 2px rgba(0, 0, 0, 0.3));\n",
              "      fill: #FFFFFF;\n",
              "    }\n",
              "  </style>\n",
              "\n",
              "      <script>\n",
              "        const buttonEl =\n",
              "          document.querySelector('#df-1d7afc30-be3b-453d-90da-af687fe63c12 button.colab-df-convert');\n",
              "        buttonEl.style.display =\n",
              "          google.colab.kernel.accessAllowed ? 'block' : 'none';\n",
              "\n",
              "        async function convertToInteractive(key) {\n",
              "          const element = document.querySelector('#df-1d7afc30-be3b-453d-90da-af687fe63c12');\n",
              "          const dataTable =\n",
              "            await google.colab.kernel.invokeFunction('convertToInteractive',\n",
              "                                                     [key], {});\n",
              "          if (!dataTable) return;\n",
              "\n",
              "          const docLinkHtml = 'Like what you see? Visit the ' +\n",
              "            '<a target=\"_blank\" href=https://colab.research.google.com/notebooks/data_table.ipynb>data table notebook</a>'\n",
              "            + ' to learn more about interactive tables.';\n",
              "          element.innerHTML = '';\n",
              "          dataTable['output_type'] = 'display_data';\n",
              "          await google.colab.output.renderOutput(dataTable, element);\n",
              "          const docLink = document.createElement('div');\n",
              "          docLink.innerHTML = docLinkHtml;\n",
              "          element.appendChild(docLink);\n",
              "        }\n",
              "      </script>\n",
              "    </div>\n",
              "  </div>\n"
            ]
          },
          "metadata": {},
          "execution_count": 6
        }
      ]
    },
    {
      "cell_type": "markdown",
      "source": [
        "# Demographics"
      ],
      "metadata": {
        "id": "gpFsPG2PLzu3"
      }
    },
    {
      "cell_type": "markdown",
      "source": [
        "### Number of Responses"
      ],
      "metadata": {
        "id": "YPu2D56CMY5S"
      }
    },
    {
      "cell_type": "code",
      "source": [
        "pregame_rows, pregame_columns = df_pregame.shape\n",
        "\n",
        "print(\"Pregame Responses: {}\\n\".format(pregame_rows))\n",
        "\n",
        "postgame_rows, postgame_columns = df_pregame.shape\n",
        "\n",
        "print(\"Postgame Responses: {}\".format(postgame_rows))"
      ],
      "metadata": {
        "id": "LwGehxCWL3Ux",
        "colab": {
          "base_uri": "https://localhost:8080/"
        },
        "outputId": "02678195-7f92-4133-db77-2ab4460b7f2b"
      },
      "execution_count": 7,
      "outputs": [
        {
          "output_type": "stream",
          "name": "stdout",
          "text": [
            "Pregame Responses: 43\n",
            "\n",
            "Postgame Responses: 43\n"
          ]
        }
      ]
    },
    {
      "cell_type": "markdown",
      "source": [
        "### Generational Demographic"
      ],
      "metadata": {
        "id": "tQZsQbxebjP1"
      }
    },
    {
      "cell_type": "markdown",
      "source": [
        "Create new column to indicate generation demographic.\n",
        "\n",
        "From https://libguides.usc.edu/busdem/age (https://genhq.com/the-generations-hub/generational-faqs/)\n",
        "\n",
        "\n",
        "1.   Baby Boomers:                            1946 - 1964\n",
        "2.   Gen X:                                   1965 - 1976\n",
        "3.   Gen Y / Millennials:                           1977 - 1995\n",
        "4.   Gen Z / iGen / Centennials               1996 - 2010\n",
        "5.   Gen Alpha                                2010 - ?\n",
        "\n",
        "\n",
        "\n",
        "\n"
      ],
      "metadata": {
        "id": "LpLHfWtLJaMi"
      }
    },
    {
      "cell_type": "code",
      "source": [
        "# Create a new column 'Generation' based on 'Year of Birth'\n",
        "df_pregame['Generation'] = pd.cut(df_pregame['Year of Birth'].astype(int), bins=[1946, 1965, 1977, 1996, 2010, 3000], labels=['Baby Boomer', 'Gen X', 'Gen Y', 'Gen Z', 'Gen Alpha'], right=False)\n",
        "\n",
        "df_pregame.head(5)"
      ],
      "metadata": {
        "id": "YIN3EMduJIh7",
        "colab": {
          "base_uri": "https://localhost:8080/",
          "height": 1000
        },
        "outputId": "494b4d8f-c3db-4ef3-c4b4-413efbcd4a9f"
      },
      "execution_count": 8,
      "outputs": [
        {
          "output_type": "execute_result",
          "data": {
            "text/plain": [
              "            Timestamp  \\\n",
              "0  6/28/2023 19:06:21   \n",
              "1  6/28/2023 19:12:01   \n",
              "2  6/28/2023 19:18:39   \n",
              "3  6/28/2023 19:24:50   \n",
              "4  6/28/2023 19:47:22   \n",
              "\n",
              "  In compliance with the Data Privacy Act of 2012 (RA10173) and its Implementing Rules and Regulations, I am allowing Julian Dycaico and Hans Olaño from the University of the Philippines - Diliman to store and use my data as part of their research study.   \\n\\nBy using the survey form you give us permission to collect/use your information for research purposes only.  \\\n",
              "0                      Yes, I agree and give consent                                                                                                                                                                                                                                                                                                                               \n",
              "1                      Yes, I agree and give consent                                                                                                                                                                                                                                                                                                                               \n",
              "2                      Yes, I agree and give consent                                                                                                                                                                                                                                                                                                                               \n",
              "3                      Yes, I agree and give consent                                                                                                                                                                                                                                                                                                                               \n",
              "4                      Yes, I agree and give consent                                                                                                                                                                                                                                                                                                                               \n",
              "\n",
              "                        Name                    Email Year of Birth  \\\n",
              "0                 Russel Ang  russel_john01@yahoo.com          2000   \n",
              "1                        Tim           tcdy@up.edu.ph          2001   \n",
              "2                              a.l.a.tecson@gmail.com          2000   \n",
              "3                Rianna Cruz        rscruz7@up.edu.ph          1995   \n",
              "4  Hans Gabriel H. De Castro     hhdecastro@up.edu.ph          2001   \n",
              "\n",
              "  In general, how much time do you spend on social media (Facebook, Tiktok, Instagram, etc. daily?  \\\n",
              "0                               Several times a day.                                                 \n",
              "1                               Several times a day.                                                 \n",
              "2                                 Almost constantly.                                                 \n",
              "3                               Several times a day.                                                 \n",
              "4                               Several times a day.                                                 \n",
              "\n",
              "   Which social media platforms do you use?  \\\n",
              "0  Facebook, Youtube, Discord, and Twitter.   \n",
              "1     Facebook, Twitter, Instagram, YouTube   \n",
              "2                 Facebook, reddit, youtube   \n",
              "3              Facebook, Instagram, Twitter   \n",
              "4              Facebook, Twitter, Instagram   \n",
              "\n",
              "  Do you know the Data Privacy Act of 2012?  \\\n",
              "0                                        No   \n",
              "1                                       Yes   \n",
              "2                                       Yes   \n",
              "3                                       Yes   \n",
              "4                                       Yes   \n",
              "\n",
              "  If yes, as best as you can, can you give a short description on what you know about it? If no put \"N/A\".  \\\n",
              "0                                                N/A                                                         \n",
              "1  Researchers can only use the data provided by ...                                                         \n",
              "2  Simply the data that I give will remain privat...                                                         \n",
              "3                     right to decide about our data                                                         \n",
              "4  Before institutions can use our data for whate...                                                         \n",
              "\n",
              "  App Permission Username Selection Photo Selection Caption Selection  \\\n",
              "0              4                  2               2                 2   \n",
              "1              4                  2               3                 4   \n",
              "2              4                  4               4                 4   \n",
              "3              5                  3               3                 3   \n",
              "4              5                  1               5                 1   \n",
              "\n",
              "  Location Data Post Visibility Removal of Tags Persuasive Features  \\\n",
              "0             3               4               2                   4   \n",
              "1             4               4               4                   1   \n",
              "2             4               4               4                   4   \n",
              "3             5               5               5                   1   \n",
              "4             5               1               5                   4   \n",
              "\n",
              "  Tagging Behavior Generation  \n",
              "0                3      Gen Z  \n",
              "1                4      Gen Z  \n",
              "2                4      Gen Z  \n",
              "3                3      Gen Y  \n",
              "4                2      Gen Z  "
            ],
            "text/html": [
              "\n",
              "\n",
              "  <div id=\"df-2bf9cef7-8517-49c8-8fd4-af4a00059759\">\n",
              "    <div class=\"colab-df-container\">\n",
              "      <div>\n",
              "<style scoped>\n",
              "    .dataframe tbody tr th:only-of-type {\n",
              "        vertical-align: middle;\n",
              "    }\n",
              "\n",
              "    .dataframe tbody tr th {\n",
              "        vertical-align: top;\n",
              "    }\n",
              "\n",
              "    .dataframe thead th {\n",
              "        text-align: right;\n",
              "    }\n",
              "</style>\n",
              "<table border=\"1\" class=\"dataframe\">\n",
              "  <thead>\n",
              "    <tr style=\"text-align: right;\">\n",
              "      <th></th>\n",
              "      <th>Timestamp</th>\n",
              "      <th>In compliance with the Data Privacy Act of 2012 (RA10173) and its Implementing Rules and Regulations, I am allowing Julian Dycaico and Hans Olaño from the University of the Philippines - Diliman to store and use my data as part of their research study.   \\n\\nBy using the survey form you give us permission to collect/use your information for research purposes only.</th>\n",
              "      <th>Name</th>\n",
              "      <th>Email</th>\n",
              "      <th>Year of Birth</th>\n",
              "      <th>In general, how much time do you spend on social media (Facebook, Tiktok, Instagram, etc. daily?</th>\n",
              "      <th>Which social media platforms do you use?</th>\n",
              "      <th>Do you know the Data Privacy Act of 2012?</th>\n",
              "      <th>If yes, as best as you can, can you give a short description on what you know about it? If no put \"N/A\".</th>\n",
              "      <th>App Permission</th>\n",
              "      <th>Username Selection</th>\n",
              "      <th>Photo Selection</th>\n",
              "      <th>Caption Selection</th>\n",
              "      <th>Location Data</th>\n",
              "      <th>Post Visibility</th>\n",
              "      <th>Removal of Tags</th>\n",
              "      <th>Persuasive Features</th>\n",
              "      <th>Tagging Behavior</th>\n",
              "      <th>Generation</th>\n",
              "    </tr>\n",
              "  </thead>\n",
              "  <tbody>\n",
              "    <tr>\n",
              "      <th>0</th>\n",
              "      <td>6/28/2023 19:06:21</td>\n",
              "      <td>Yes, I agree and give consent</td>\n",
              "      <td>Russel Ang</td>\n",
              "      <td>russel_john01@yahoo.com</td>\n",
              "      <td>2000</td>\n",
              "      <td>Several times a day.</td>\n",
              "      <td>Facebook, Youtube, Discord, and Twitter.</td>\n",
              "      <td>No</td>\n",
              "      <td>N/A</td>\n",
              "      <td>4</td>\n",
              "      <td>2</td>\n",
              "      <td>2</td>\n",
              "      <td>2</td>\n",
              "      <td>3</td>\n",
              "      <td>4</td>\n",
              "      <td>2</td>\n",
              "      <td>4</td>\n",
              "      <td>3</td>\n",
              "      <td>Gen Z</td>\n",
              "    </tr>\n",
              "    <tr>\n",
              "      <th>1</th>\n",
              "      <td>6/28/2023 19:12:01</td>\n",
              "      <td>Yes, I agree and give consent</td>\n",
              "      <td>Tim</td>\n",
              "      <td>tcdy@up.edu.ph</td>\n",
              "      <td>2001</td>\n",
              "      <td>Several times a day.</td>\n",
              "      <td>Facebook, Twitter, Instagram, YouTube</td>\n",
              "      <td>Yes</td>\n",
              "      <td>Researchers can only use the data provided by ...</td>\n",
              "      <td>4</td>\n",
              "      <td>2</td>\n",
              "      <td>3</td>\n",
              "      <td>4</td>\n",
              "      <td>4</td>\n",
              "      <td>4</td>\n",
              "      <td>4</td>\n",
              "      <td>1</td>\n",
              "      <td>4</td>\n",
              "      <td>Gen Z</td>\n",
              "    </tr>\n",
              "    <tr>\n",
              "      <th>2</th>\n",
              "      <td>6/28/2023 19:18:39</td>\n",
              "      <td>Yes, I agree and give consent</td>\n",
              "      <td></td>\n",
              "      <td>a.l.a.tecson@gmail.com</td>\n",
              "      <td>2000</td>\n",
              "      <td>Almost constantly.</td>\n",
              "      <td>Facebook, reddit, youtube</td>\n",
              "      <td>Yes</td>\n",
              "      <td>Simply the data that I give will remain privat...</td>\n",
              "      <td>4</td>\n",
              "      <td>4</td>\n",
              "      <td>4</td>\n",
              "      <td>4</td>\n",
              "      <td>4</td>\n",
              "      <td>4</td>\n",
              "      <td>4</td>\n",
              "      <td>4</td>\n",
              "      <td>4</td>\n",
              "      <td>Gen Z</td>\n",
              "    </tr>\n",
              "    <tr>\n",
              "      <th>3</th>\n",
              "      <td>6/28/2023 19:24:50</td>\n",
              "      <td>Yes, I agree and give consent</td>\n",
              "      <td>Rianna Cruz</td>\n",
              "      <td>rscruz7@up.edu.ph</td>\n",
              "      <td>1995</td>\n",
              "      <td>Several times a day.</td>\n",
              "      <td>Facebook, Instagram, Twitter</td>\n",
              "      <td>Yes</td>\n",
              "      <td>right to decide about our data</td>\n",
              "      <td>5</td>\n",
              "      <td>3</td>\n",
              "      <td>3</td>\n",
              "      <td>3</td>\n",
              "      <td>5</td>\n",
              "      <td>5</td>\n",
              "      <td>5</td>\n",
              "      <td>1</td>\n",
              "      <td>3</td>\n",
              "      <td>Gen Y</td>\n",
              "    </tr>\n",
              "    <tr>\n",
              "      <th>4</th>\n",
              "      <td>6/28/2023 19:47:22</td>\n",
              "      <td>Yes, I agree and give consent</td>\n",
              "      <td>Hans Gabriel H. De Castro</td>\n",
              "      <td>hhdecastro@up.edu.ph</td>\n",
              "      <td>2001</td>\n",
              "      <td>Several times a day.</td>\n",
              "      <td>Facebook, Twitter, Instagram</td>\n",
              "      <td>Yes</td>\n",
              "      <td>Before institutions can use our data for whate...</td>\n",
              "      <td>5</td>\n",
              "      <td>1</td>\n",
              "      <td>5</td>\n",
              "      <td>1</td>\n",
              "      <td>5</td>\n",
              "      <td>1</td>\n",
              "      <td>5</td>\n",
              "      <td>4</td>\n",
              "      <td>2</td>\n",
              "      <td>Gen Z</td>\n",
              "    </tr>\n",
              "  </tbody>\n",
              "</table>\n",
              "</div>\n",
              "      <button class=\"colab-df-convert\" onclick=\"convertToInteractive('df-2bf9cef7-8517-49c8-8fd4-af4a00059759')\"\n",
              "              title=\"Convert this dataframe to an interactive table.\"\n",
              "              style=\"display:none;\">\n",
              "\n",
              "  <svg xmlns=\"http://www.w3.org/2000/svg\" height=\"24px\"viewBox=\"0 0 24 24\"\n",
              "       width=\"24px\">\n",
              "    <path d=\"M0 0h24v24H0V0z\" fill=\"none\"/>\n",
              "    <path d=\"M18.56 5.44l.94 2.06.94-2.06 2.06-.94-2.06-.94-.94-2.06-.94 2.06-2.06.94zm-11 1L8.5 8.5l.94-2.06 2.06-.94-2.06-.94L8.5 2.5l-.94 2.06-2.06.94zm10 10l.94 2.06.94-2.06 2.06-.94-2.06-.94-.94-2.06-.94 2.06-2.06.94z\"/><path d=\"M17.41 7.96l-1.37-1.37c-.4-.4-.92-.59-1.43-.59-.52 0-1.04.2-1.43.59L10.3 9.45l-7.72 7.72c-.78.78-.78 2.05 0 2.83L4 21.41c.39.39.9.59 1.41.59.51 0 1.02-.2 1.41-.59l7.78-7.78 2.81-2.81c.8-.78.8-2.07 0-2.86zM5.41 20L4 18.59l7.72-7.72 1.47 1.35L5.41 20z\"/>\n",
              "  </svg>\n",
              "      </button>\n",
              "\n",
              "\n",
              "\n",
              "    <div id=\"df-7b7e9439-9a48-427e-9f08-06c8ff234d9d\">\n",
              "      <button class=\"colab-df-quickchart\" onclick=\"quickchart('df-7b7e9439-9a48-427e-9f08-06c8ff234d9d')\"\n",
              "              title=\"Suggest charts.\"\n",
              "              style=\"display:none;\">\n",
              "\n",
              "<svg xmlns=\"http://www.w3.org/2000/svg\" height=\"24px\"viewBox=\"0 0 24 24\"\n",
              "     width=\"24px\">\n",
              "    <g>\n",
              "        <path d=\"M19 3H5c-1.1 0-2 .9-2 2v14c0 1.1.9 2 2 2h14c1.1 0 2-.9 2-2V5c0-1.1-.9-2-2-2zM9 17H7v-7h2v7zm4 0h-2V7h2v10zm4 0h-2v-4h2v4z\"/>\n",
              "    </g>\n",
              "</svg>\n",
              "      </button>\n",
              "    </div>\n",
              "\n",
              "<style>\n",
              "  .colab-df-quickchart {\n",
              "    background-color: #E8F0FE;\n",
              "    border: none;\n",
              "    border-radius: 50%;\n",
              "    cursor: pointer;\n",
              "    display: none;\n",
              "    fill: #1967D2;\n",
              "    height: 32px;\n",
              "    padding: 0 0 0 0;\n",
              "    width: 32px;\n",
              "  }\n",
              "\n",
              "  .colab-df-quickchart:hover {\n",
              "    background-color: #E2EBFA;\n",
              "    box-shadow: 0px 1px 2px rgba(60, 64, 67, 0.3), 0px 1px 3px 1px rgba(60, 64, 67, 0.15);\n",
              "    fill: #174EA6;\n",
              "  }\n",
              "\n",
              "  [theme=dark] .colab-df-quickchart {\n",
              "    background-color: #3B4455;\n",
              "    fill: #D2E3FC;\n",
              "  }\n",
              "\n",
              "  [theme=dark] .colab-df-quickchart:hover {\n",
              "    background-color: #434B5C;\n",
              "    box-shadow: 0px 1px 3px 1px rgba(0, 0, 0, 0.15);\n",
              "    filter: drop-shadow(0px 1px 2px rgba(0, 0, 0, 0.3));\n",
              "    fill: #FFFFFF;\n",
              "  }\n",
              "</style>\n",
              "\n",
              "    <script>\n",
              "      async function quickchart(key) {\n",
              "        const containerElement = document.querySelector('#' + key);\n",
              "        const charts = await google.colab.kernel.invokeFunction(\n",
              "            'suggestCharts', [key], {});\n",
              "      }\n",
              "    </script>\n",
              "\n",
              "      <script>\n",
              "\n",
              "function displayQuickchartButton(domScope) {\n",
              "  let quickchartButtonEl =\n",
              "    domScope.querySelector('#df-7b7e9439-9a48-427e-9f08-06c8ff234d9d button.colab-df-quickchart');\n",
              "  quickchartButtonEl.style.display =\n",
              "    google.colab.kernel.accessAllowed ? 'block' : 'none';\n",
              "}\n",
              "\n",
              "        displayQuickchartButton(document);\n",
              "      </script>\n",
              "      <style>\n",
              "    .colab-df-container {\n",
              "      display:flex;\n",
              "      flex-wrap:wrap;\n",
              "      gap: 12px;\n",
              "    }\n",
              "\n",
              "    .colab-df-convert {\n",
              "      background-color: #E8F0FE;\n",
              "      border: none;\n",
              "      border-radius: 50%;\n",
              "      cursor: pointer;\n",
              "      display: none;\n",
              "      fill: #1967D2;\n",
              "      height: 32px;\n",
              "      padding: 0 0 0 0;\n",
              "      width: 32px;\n",
              "    }\n",
              "\n",
              "    .colab-df-convert:hover {\n",
              "      background-color: #E2EBFA;\n",
              "      box-shadow: 0px 1px 2px rgba(60, 64, 67, 0.3), 0px 1px 3px 1px rgba(60, 64, 67, 0.15);\n",
              "      fill: #174EA6;\n",
              "    }\n",
              "\n",
              "    [theme=dark] .colab-df-convert {\n",
              "      background-color: #3B4455;\n",
              "      fill: #D2E3FC;\n",
              "    }\n",
              "\n",
              "    [theme=dark] .colab-df-convert:hover {\n",
              "      background-color: #434B5C;\n",
              "      box-shadow: 0px 1px 3px 1px rgba(0, 0, 0, 0.15);\n",
              "      filter: drop-shadow(0px 1px 2px rgba(0, 0, 0, 0.3));\n",
              "      fill: #FFFFFF;\n",
              "    }\n",
              "  </style>\n",
              "\n",
              "      <script>\n",
              "        const buttonEl =\n",
              "          document.querySelector('#df-2bf9cef7-8517-49c8-8fd4-af4a00059759 button.colab-df-convert');\n",
              "        buttonEl.style.display =\n",
              "          google.colab.kernel.accessAllowed ? 'block' : 'none';\n",
              "\n",
              "        async function convertToInteractive(key) {\n",
              "          const element = document.querySelector('#df-2bf9cef7-8517-49c8-8fd4-af4a00059759');\n",
              "          const dataTable =\n",
              "            await google.colab.kernel.invokeFunction('convertToInteractive',\n",
              "                                                     [key], {});\n",
              "          if (!dataTable) return;\n",
              "\n",
              "          const docLinkHtml = 'Like what you see? Visit the ' +\n",
              "            '<a target=\"_blank\" href=https://colab.research.google.com/notebooks/data_table.ipynb>data table notebook</a>'\n",
              "            + ' to learn more about interactive tables.';\n",
              "          element.innerHTML = '';\n",
              "          dataTable['output_type'] = 'display_data';\n",
              "          await google.colab.output.renderOutput(dataTable, element);\n",
              "          const docLink = document.createElement('div');\n",
              "          docLink.innerHTML = docLinkHtml;\n",
              "          element.appendChild(docLink);\n",
              "        }\n",
              "      </script>\n",
              "    </div>\n",
              "  </div>\n"
            ]
          },
          "metadata": {},
          "execution_count": 8
        }
      ]
    },
    {
      "cell_type": "markdown",
      "source": [
        "Visualize the Generation Demographic of Responses"
      ],
      "metadata": {
        "id": "_OkXv5aBLUb3"
      }
    },
    {
      "cell_type": "code",
      "source": [
        "# Count the number of rows per generation\n",
        "generation_counts = df_pregame['Generation'].value_counts()\n",
        "\n",
        "# Define a color palette for the bars\n",
        "color_palette = ['red', 'blue', 'green', 'orange', 'purple', 'yellow']\n",
        "\n",
        "# Set the style to \"seaborn\"\n",
        "plt.style.use('seaborn')\n",
        "\n",
        "# Plot the bar chart with custom colors\n",
        "ax = generation_counts.plot.bar(color=color_palette)\n",
        "\n",
        "# Set plot title and axis labels\n",
        "plt.title('Number of Rows per Generation')\n",
        "plt.xlabel('Generation')\n",
        "plt.ylabel('Count')\n",
        "\n",
        "# Display the plot\n",
        "plt.show()"
      ],
      "metadata": {
        "id": "PsoYeg6ULXjQ",
        "colab": {
          "base_uri": "https://localhost:8080/",
          "height": 650
        },
        "outputId": "2bd22965-c6f6-4b94-e95d-b6582e71fbf8"
      },
      "execution_count": 9,
      "outputs": [
        {
          "output_type": "stream",
          "name": "stderr",
          "text": [
            "<ipython-input-9-73afd255ac76>:8: MatplotlibDeprecationWarning: The seaborn styles shipped by Matplotlib are deprecated since 3.6, as they no longer correspond to the styles shipped by seaborn. However, they will remain available as 'seaborn-v0_8-<style>'. Alternatively, directly use the seaborn API instead.\n",
            "  plt.style.use('seaborn')\n"
          ]
        },
        {
          "output_type": "display_data",
          "data": {
            "text/plain": [
              "<Figure size 800x550 with 1 Axes>"
            ],
            "image/png": "[encoded data removed]"
          },
          "metadata": {}
        }
      ]
    },
    {
      "cell_type": "code",
      "source": [
        "total_generation = generation_counts.sum()\n",
        "\n",
        "ratios = generation_counts / total_generation\n",
        "\n",
        "print(ratios)"
      ],
      "metadata": {
        "id": "fgURJ9L-bLDH",
        "outputId": "8ae980a7-5609-4808-895e-de0230d281a2",
        "colab": {
          "base_uri": "https://localhost:8080/"
        }
      },
      "execution_count": 10,
      "outputs": [
        {
          "output_type": "stream",
          "name": "stdout",
          "text": [
            "Gen Z          0.906977\n",
            "Gen Y          0.093023\n",
            "Baby Boomer    0.000000\n",
            "Gen X          0.000000\n",
            "Gen Alpha      0.000000\n",
            "Name: Generation, dtype: float64\n"
          ]
        }
      ]
    },
    {
      "cell_type": "code",
      "source": [],
      "metadata": {
        "id": "Gyojx3reOvOW"
      },
      "execution_count": 10,
      "outputs": []
    },
    {
      "cell_type": "markdown",
      "source": [
        "### Social Media Platforms"
      ],
      "metadata": {
        "id": "nFvCjsPobqXR"
      }
    },
    {
      "cell_type": "markdown",
      "source": [
        "Split the responses in \"Which social media platforms do you use?\"\n"
      ],
      "metadata": {
        "id": "IBSjGi3_NV4O"
      }
    },
    {
      "cell_type": "code",
      "source": [
        "def extract_platforms(response):\n",
        "    response = response.lower()\n",
        "    platforms = re.findall(r'\\b\\w+\\b', response)\n",
        "    return platforms"
      ],
      "metadata": {
        "id": "Sr7NrqzkQtPR"
      },
      "execution_count": 11,
      "outputs": []
    },
    {
      "cell_type": "code",
      "source": [
        "df_pregame['Social Media Platforms'] = df_pregame['Which social media platforms do you use?'].apply(extract_platforms)"
      ],
      "metadata": {
        "id": "PVWmQPuRQt1o"
      },
      "execution_count": 12,
      "outputs": []
    },
    {
      "cell_type": "code",
      "source": [
        "df_pregame['Social Media Platforms']"
      ],
      "metadata": {
        "id": "ptZhfJBWRni4",
        "colab": {
          "base_uri": "https://localhost:8080/"
        },
        "outputId": "4c414e57-ce14-4370-d3f3-572fa85568af"
      },
      "execution_count": 13,
      "outputs": [
        {
          "output_type": "execute_result",
          "data": {
            "text/plain": [
              "0            [facebook, youtube, discord, and, twitter]\n",
              "1               [facebook, twitter, instagram, youtube]\n",
              "2                           [facebook, reddit, youtube]\n",
              "3                        [facebook, instagram, twitter]\n",
              "4                        [facebook, twitter, instagram]\n",
              "5                         [facebook, instagram, tiktok]\n",
              "6     [facebook, twitter, tiktok, instagram, youtube...\n",
              "7                        [facebook, youtube, pinterest]\n",
              "8                                     [fb, ig, youtube]\n",
              "9                          [facebook, twitter, discord]\n",
              "10               [facebook, instagram, tiktok, twitter]\n",
              "11                        [facebook, instagram, reddit]\n",
              "12                                [facebook, instagram]\n",
              "13                          [facebook, twitter, reddit]\n",
              "14                                           [facebook]\n",
              "15                                           [facebook]\n",
              "16                        [facebook, tiktok, instagram]\n",
              "17    [facebook, instagram, twitter, reddit, and, yo...\n",
              "18    [messenger, facebook, instagram, twitter, vibe...\n",
              "19                       [facebook, twitter, instagram]\n",
              "20                         [instagram, twitter, tumblr]\n",
              "21                         [fb, ig, reddit, no, tiktok]\n",
              "22               [facebook, instagram, twitter, tiktok]\n",
              "23                                                   []\n",
              "24                       [instagram, twitter, facebook]\n",
              "25                                        [fb, twitter]\n",
              "26               [instagram, twitter, facebook, tiktok]\n",
              "27                                  [instagram, tiktok]\n",
              "28                       [facebook, twitter, instagram]\n",
              "29              [facebook, youtube, discord, instagram]\n",
              "30               [facebook, twitter, instagram, tiktok]\n",
              "31                                [facebook, instagram]\n",
              "32                                [ig, twitter, tiktok]\n",
              "33                       [instagram, facebook, twitter]\n",
              "34     [facebook, twitter, instagram, youtube, discord]\n",
              "35                                 [twitter, instagram]\n",
              "36                                          [instagram]\n",
              "37               [facebook, twitter, instagram, tiktok]\n",
              "38               [facebook, instagram, twitter, tiktok]\n",
              "39                             [twitter, occassionally]\n",
              "40                                             [fb, ig]\n",
              "41                              [facebook, ig, twitter]\n",
              "42                                                   []\n",
              "Name: Social Media Platforms, dtype: object"
            ]
          },
          "metadata": {},
          "execution_count": 13
        }
      ]
    },
    {
      "cell_type": "code",
      "source": [
        "# Convert the column to a flat list and perform modifications\n",
        "platforms = [platform\n",
        "             for platforms_list in df_pregame['Social Media Platforms']\n",
        "             for platform in platforms_list\n",
        "             if platform not in ['no', 'and', 'occassionally']]  # Exclude 'no' and 'and Occasisionally'\n",
        "\n",
        "# Combine 'fb' and 'facebook' as one platform\n",
        "platforms = ['facebook' if platform in ['fb', 'facebook'] else platform for platform in platforms]\n",
        "\n",
        "# Combine 'ig' and 'instagram' as one platform\n",
        "platforms = ['instagram' if platform in ['ig', 'instagram'] else platform for platform in platforms]\n",
        "\n",
        "platforms = [platform.capitalize() for platform in platforms]\n",
        "\n",
        "# Count the occurrences of each platform\n",
        "platform_counts = pd.Series(platforms).value_counts()\n",
        "\n",
        "# Print the counts\n",
        "print(platform_counts)"
      ],
      "metadata": {
        "id": "byvuT1SyR6Gz",
        "colab": {
          "base_uri": "https://localhost:8080/"
        },
        "outputId": "035b2834-9adf-4c58-bb33-3e0339f468a9"
      },
      "execution_count": 14,
      "outputs": [
        {
          "output_type": "stream",
          "name": "stdout",
          "text": [
            "Facebook     35\n",
            "Instagram    32\n",
            "Twitter      26\n",
            "Tiktok       12\n",
            "Youtube       9\n",
            "Discord       5\n",
            "Reddit        5\n",
            "Viber         2\n",
            "Pinterest     1\n",
            "Messenger     1\n",
            "Telegram      1\n",
            "Tumblr        1\n",
            "dtype: int64\n"
          ]
        }
      ]
    },
    {
      "cell_type": "code",
      "source": [
        "# Generate a unique color for each bar\n",
        "num_bars = len(platform_counts)\n",
        "color_palette = plt.cm.get_cmap('tab20', num_bars)\n",
        "\n",
        "# Plot the bar chart with unique colors\n",
        "fig, ax = plt.subplots()\n",
        "platform_counts.plot.bar(color=color_palette(np.arange(num_bars)))\n",
        "\n",
        "# Set the plot title and axis labels\n",
        "ax.set_title('Users per Social Media Platform')\n",
        "ax.set_xlabel('Platform')\n",
        "ax.set_ylabel('Users')\n",
        "\n",
        "# Adjust the spacing between x-axis tick labels\n",
        "plt.xticks(rotation=45, ha='right')\n",
        "\n",
        "# Show the plot\n",
        "plt.tight_layout()\n",
        "plt.show()"
      ],
      "metadata": {
        "id": "GBxNV7arTL24",
        "colab": {
          "base_uri": "https://localhost:8080/",
          "height": 613
        },
        "outputId": "8606e83d-00ba-4de3-b712-65565471cc44"
      },
      "execution_count": 15,
      "outputs": [
        {
          "output_type": "stream",
          "name": "stderr",
          "text": [
            "<ipython-input-15-b042f1c1aa35>:3: MatplotlibDeprecationWarning: The get_cmap function was deprecated in Matplotlib 3.7 and will be removed two minor releases later. Use ``matplotlib.colormaps[name]`` or ``matplotlib.colormaps.get_cmap(obj)`` instead.\n",
            "  color_palette = plt.cm.get_cmap('tab20', num_bars)\n"
          ]
        },
        {
          "output_type": "display_data",
          "data": {
            "text/plain": [
              "<Figure size 800x550 with 1 Axes>"
            ],
            "image/png": "[encoded data removed]"
          },
          "metadata": {}
        }
      ]
    },
    {
      "cell_type": "markdown",
      "source": [
        "### Knowledge on the Data Privacy Act."
      ],
      "metadata": {
        "id": "7axCn1CPWe0p"
      }
    },
    {
      "cell_type": "code",
      "source": [
        "data_privacy_knowledge = df_pregame['Do you know the Data Privacy Act of 2012?']\n",
        "\n",
        "data_privacy_counts = data_privacy_knowledge.value_counts()\n",
        "\n",
        "data_privacy_counts"
      ],
      "metadata": {
        "id": "5xA4TPAnWeom",
        "colab": {
          "base_uri": "https://localhost:8080/"
        },
        "outputId": "35c2c773-17ac-4a07-bc29-1bf3580d4354"
      },
      "execution_count": 16,
      "outputs": [
        {
          "output_type": "execute_result",
          "data": {
            "text/plain": [
              "Yes    33\n",
              "No     10\n",
              "Name: Do you know the Data Privacy Act of 2012?, dtype: int64"
            ]
          },
          "metadata": {},
          "execution_count": 16
        }
      ]
    },
    {
      "cell_type": "code",
      "source": [
        "# Plot the bar chart with unique colors\n",
        "fig, ax = plt.subplots()\n",
        "data_privacy_counts.plot.bar(color=color_palette(np.arange(num_bars)))\n",
        "\n",
        "# Set the plot title and axis labels\n",
        "ax.set_title('Knowledge on Data Privacy Act of 2012')\n",
        "# ax.set_xlabel('Platform')\n",
        "ax.set_ylabel('Count')\n",
        "\n",
        "# Adjust the spacing between x-axis tick labels\n",
        "plt.xticks(rotation=45, ha='right')\n",
        "\n",
        "# Show the plot\n",
        "plt.tight_layout()\n",
        "plt.show()"
      ],
      "metadata": {
        "id": "noLfz8rtWUxJ",
        "colab": {
          "base_uri": "https://localhost:8080/",
          "height": 557
        },
        "outputId": "c4131827-366b-4f37-c834-a94393e9ea4f"
      },
      "execution_count": 17,
      "outputs": [
        {
          "output_type": "display_data",
          "data": {
            "text/plain": [
              "<Figure size 800x550 with 1 Axes>"
            ],
            "image/png": "[encoded data removed]"
          },
          "metadata": {}
        }
      ]
    },
    {
      "cell_type": "markdown",
      "source": [
        "VADER Analysis"
      ],
      "metadata": {
        "id": "Hpzmahn8c2AZ"
      }
    },
    {
      "cell_type": "code",
      "source": [
        "nltk.download('vader_lexicon')"
      ],
      "metadata": {
        "colab": {
          "base_uri": "https://localhost:8080/"
        },
        "id": "Z-6qlnQTc1uD",
        "outputId": "7df0e4e9-d8f9-4cb3-8dd6-26a40469bea3"
      },
      "execution_count": 18,
      "outputs": [
        {
          "output_type": "stream",
          "name": "stderr",
          "text": [
            "[nltk_data] Downloading package vader_lexicon to /root/nltk_data...\n"
          ]
        },
        {
          "output_type": "execute_result",
          "data": {
            "text/plain": [
              "True"
            ]
          },
          "metadata": {},
          "execution_count": 18
        }
      ]
    },
    {
      "cell_type": "code",
      "source": [
        "# Function for performing Topic Modelling\n",
        "\n",
        "def topic_modeling_lda(df, column_name, n_topics=5, num_words=15):\n",
        "    stemmer = PorterStemmer()\n",
        "    lemmatizer = WordNetLemmatizer()\n",
        "\n",
        "    stop_words_eng = set(stopwords.words('english'))\n",
        "\n",
        "    # From https://github.com/stopwords-iso/stopwords-tl\n",
        "    stop_words_fil = ['akin', 'aking', 'ako', 'alin', 'am', 'amin', 'aming', 'ang', 'ano', 'anumang', 'apat', 'at', 'atin', 'ating', 'ay', 'bababa', 'bago', 'bakit', 'bawat', 'bilang', 'dahil', 'dalawa', 'dapat', 'din',\n",
        "    'dito', 'doon', 'gagawin', 'gayunman', 'ginagawa', 'ginawa', 'ginawang', 'gumawa', 'gusto', 'habang', 'hanggang', 'hindi', 'huwag', 'iba', 'ibaba', 'ibabaw', 'ibig', 'ikaw', 'ilagay', 'ilalim', 'ilan', 'inyong', 'isa', 'isang', 'itaas', 'ito', 'iyo', 'iyon', 'iyong', 'ka', 'kahit', 'kailangan', 'kailanman', 'kami', 'kanila', 'kanilang', 'kanino', 'kanya', 'kanyang', 'kapag', 'kapwa', 'karamihan', 'katiyakan', 'katulad', 'kaya', 'kaysa', 'ko', 'kong', 'kulang', 'kumuha', 'kung', 'laban', 'lahat', 'lamang', 'likod', 'lima', 'maaari', 'maaaring', 'maging', 'mahusay', 'makita', 'marami', 'marapat', 'masyado', 'may', 'mayroon', 'mga', 'minsan', 'mismo', 'mula', 'muli', 'na', 'nabanggit', 'naging', 'nagkaroon', 'nais', 'nakita', 'namin', 'napaka', 'narito', 'nasaan', 'ng', 'ngayon', 'ni', 'nila', 'nilang', 'nito', 'niya', 'niyang', 'noon', 'o', 'pa', 'paano', 'pababa', 'paggawa', 'pagitan', 'pagkakaroon', 'pagkatapos', 'palabas', 'pamamagitan', 'panahon', 'pangalawa', 'para', 'paraan',\n",
        "    'pareho', 'pataas', 'pero', 'pumunta', 'pumupunta', 'sa', 'saan', 'sabi', 'sabihin', 'sarili', 'sila', 'sino', 'siya', 'tatlo', 'tayo', 'tulad', 'tungkol', 'una', 'walang']\n",
        "\n",
        "    stop_words = stop_words_eng | set(stop_words_fil)\n",
        "\n",
        "    # Custom tokenizer\n",
        "    def tokenizer(text):\n",
        "        text = emoji.replace_emoji(text, replace='')  # remove emojis\n",
        "        text = re.sub(r\"http\\S+\", \"\", text)  # remove URLs\n",
        "        text = re.sub(r\"[^\\w\\s]\", \"\", text)  # remove whitespaces\n",
        "        tokens = [word for word in word_tokenize(text) if len(word) > 3]  # keep only 4+-length words\n",
        "        lemmatized_tokens = [lemmatizer.lemmatize(token) for token in tokens]\n",
        "        filtered_tokens = [token for token in lemmatized_tokens if token.lower() not in stop_words]\n",
        "        # stemmed_tokens = [stemmer.stem(item) for item in tokens]\n",
        "        return filtered_tokens\n",
        "\n",
        "    # Generate features\n",
        "    tf_vectorizer = TfidfVectorizer(tokenizer=tokenizer,\n",
        "                                    max_df=0.75, max_features=10000,\n",
        "                                    use_idf=True, norm=None, token_pattern=None)\n",
        "    tf_vectors = tf_vectorizer.fit_transform(df[column_name].astype(str))\n",
        "\n",
        "    # Create top N topics\n",
        "    lda = decomposition.LatentDirichletAllocation(n_components=n_topics, max_iter=10,\n",
        "                                    learning_method='online', learning_offset=50, n_jobs=1, random_state=42)\n",
        "    W = lda.fit_transform(tf_vectors)\n",
        "    H = lda.components_\n",
        "\n",
        "    # Show top M relevant words for each topic\n",
        "    vocab = np.array(tf_vectorizer.get_feature_names_out())\n",
        "    top_words = lambda t: [vocab[i] for i in np.argsort(t)[:-num_words-1:-1]]\n",
        "    topic_words = ([top_words(t) for t in H])\n",
        "    topics = [' '.join(t) for t in topic_words]\n",
        "    df_topics = pd.DataFrame(topics, columns=['Keywords'])\n",
        "    df_topics['Topic ID'] = range(1, len(topics) + 1)\n",
        "\n",
        "    # Perform topic composition\n",
        "    doc_topic = pd.DataFrame(W, columns=[\"Topic\"+str(i) for i in range(1, n_topics+1)])\n",
        "    df_composition = pd.concat([df, doc_topic], axis=1)\n",
        "\n",
        "    return df_topics, lda, df_composition, tf_vectorizer, tf_vectors"
      ],
      "metadata": {
        "id": "PPVEz3F7BQMh"
      },
      "execution_count": 19,
      "outputs": []
    },
    {
      "cell_type": "code",
      "source": [
        "df_dpact,lda, df_composition, tf_vectorizer, tf_vectors = topic_modeling_lda(df = df_pregame, column_name = 'If yes, as best as you can, can you give a short description on what you know about it? If no put \"N/A\".', n_topics = 10, num_words = 15)\n",
        "\n",
        "df_dpact"
      ],
      "metadata": {
        "id": "-cMTx8B6Dgfi",
        "colab": {
          "base_uri": "https://localhost:8080/",
          "height": 363
        },
        "outputId": "424278b4-c29f-435c-9c13-aef664f2c2be"
      },
      "execution_count": 20,
      "outputs": [
        {
          "output_type": "execute_result",
          "data": {
            "text/plain": [
              "                                            Keywords  Topic ID\n",
              "0  decide extent remain simply private give data ...         1\n",
              "1  sign form whatever first institution consent m...         2\n",
              "2  enacted intend information malicious tech safe...         3\n",
              "3  privacy personal relation recorded properly go...         4\n",
              "4  information communication individual sector pe...         5\n",
              "5  help regulate recording people collection safe...         6\n",
              "6  data personal know without party prohibiting d...         7\n",
              "7  data platform access study different personal ...         8\n",
              "8  must data privacy purpose used collected prote...         9\n",
              "9  information legal right like research responde...        10"
            ],
            "text/html": [
              "\n",
              "\n",
              "  <div id=\"df-e240f3e8-055f-4770-9e41-6b1b5be86a52\">\n",
              "    <div class=\"colab-df-container\">\n",
              "      <div>\n",
              "<style scoped>\n",
              "    .dataframe tbody tr th:only-of-type {\n",
              "        vertical-align: middle;\n",
              "    }\n",
              "\n",
              "    .dataframe tbody tr th {\n",
              "        vertical-align: top;\n",
              "    }\n",
              "\n",
              "    .dataframe thead th {\n",
              "        text-align: right;\n",
              "    }\n",
              "</style>\n",
              "<table border=\"1\" class=\"dataframe\">\n",
              "  <thead>\n",
              "    <tr style=\"text-align: right;\">\n",
              "      <th></th>\n",
              "      <th>Keywords</th>\n",
              "      <th>Topic ID</th>\n",
              "    </tr>\n",
              "  </thead>\n",
              "  <tbody>\n",
              "    <tr>\n",
              "      <th>0</th>\n",
              "      <td>decide extent remain simply private give data ...</td>\n",
              "      <td>1</td>\n",
              "    </tr>\n",
              "    <tr>\n",
              "      <th>1</th>\n",
              "      <td>sign form whatever first institution consent m...</td>\n",
              "      <td>2</td>\n",
              "    </tr>\n",
              "    <tr>\n",
              "      <th>2</th>\n",
              "      <td>enacted intend information malicious tech safe...</td>\n",
              "      <td>3</td>\n",
              "    </tr>\n",
              "    <tr>\n",
              "      <th>3</th>\n",
              "      <td>privacy personal relation recorded properly go...</td>\n",
              "      <td>4</td>\n",
              "    </tr>\n",
              "    <tr>\n",
              "      <th>4</th>\n",
              "      <td>information communication individual sector pe...</td>\n",
              "      <td>5</td>\n",
              "    </tr>\n",
              "    <tr>\n",
              "      <th>5</th>\n",
              "      <td>help regulate recording people collection safe...</td>\n",
              "      <td>6</td>\n",
              "    </tr>\n",
              "    <tr>\n",
              "      <th>6</th>\n",
              "      <td>data personal know without party prohibiting d...</td>\n",
              "      <td>7</td>\n",
              "    </tr>\n",
              "    <tr>\n",
              "      <th>7</th>\n",
              "      <td>data platform access study different personal ...</td>\n",
              "      <td>8</td>\n",
              "    </tr>\n",
              "    <tr>\n",
              "      <th>8</th>\n",
              "      <td>must data privacy purpose used collected prote...</td>\n",
              "      <td>9</td>\n",
              "    </tr>\n",
              "    <tr>\n",
              "      <th>9</th>\n",
              "      <td>information legal right like research responde...</td>\n",
              "      <td>10</td>\n",
              "    </tr>\n",
              "  </tbody>\n",
              "</table>\n",
              "</div>\n",
              "      <button class=\"colab-df-convert\" onclick=\"convertToInteractive('df-e240f3e8-055f-4770-9e41-6b1b5be86a52')\"\n",
              "              title=\"Convert this dataframe to an interactive table.\"\n",
              "              style=\"display:none;\">\n",
              "\n",
              "  <svg xmlns=\"http://www.w3.org/2000/svg\" height=\"24px\"viewBox=\"0 0 24 24\"\n",
              "       width=\"24px\">\n",
              "    <path d=\"M0 0h24v24H0V0z\" fill=\"none\"/>\n",
              "    <path d=\"M18.56 5.44l.94 2.06.94-2.06 2.06-.94-2.06-.94-.94-2.06-.94 2.06-2.06.94zm-11 1L8.5 8.5l.94-2.06 2.06-.94-2.06-.94L8.5 2.5l-.94 2.06-2.06.94zm10 10l.94 2.06.94-2.06 2.06-.94-2.06-.94-.94-2.06-.94 2.06-2.06.94z\"/><path d=\"M17.41 7.96l-1.37-1.37c-.4-.4-.92-.59-1.43-.59-.52 0-1.04.2-1.43.59L10.3 9.45l-7.72 7.72c-.78.78-.78 2.05 0 2.83L4 21.41c.39.39.9.59 1.41.59.51 0 1.02-.2 1.41-.59l7.78-7.78 2.81-2.81c.8-.78.8-2.07 0-2.86zM5.41 20L4 18.59l7.72-7.72 1.47 1.35L5.41 20z\"/>\n",
              "  </svg>\n",
              "      </button>\n",
              "\n",
              "\n",
              "\n",
              "    <div id=\"df-07695044-ba38-4f5b-83c8-d5e8ecd9df07\">\n",
              "      <button class=\"colab-df-quickchart\" onclick=\"quickchart('df-07695044-ba38-4f5b-83c8-d5e8ecd9df07')\"\n",
              "              title=\"Suggest charts.\"\n",
              "              style=\"display:none;\">\n",
              "\n",
              "<svg xmlns=\"http://www.w3.org/2000/svg\" height=\"24px\"viewBox=\"0 0 24 24\"\n",
              "     width=\"24px\">\n",
              "    <g>\n",
              "        <path d=\"M19 3H5c-1.1 0-2 .9-2 2v14c0 1.1.9 2 2 2h14c1.1 0 2-.9 2-2V5c0-1.1-.9-2-2-2zM9 17H7v-7h2v7zm4 0h-2V7h2v10zm4 0h-2v-4h2v4z\"/>\n",
              "    </g>\n",
              "</svg>\n",
              "      </button>\n",
              "    </div>\n",
              "\n",
              "<style>\n",
              "  .colab-df-quickchart {\n",
              "    background-color: #E8F0FE;\n",
              "    border: none;\n",
              "    border-radius: 50%;\n",
              "    cursor: pointer;\n",
              "    display: none;\n",
              "    fill: #1967D2;\n",
              "    height: 32px;\n",
              "    padding: 0 0 0 0;\n",
              "    width: 32px;\n",
              "  }\n",
              "\n",
              "  .colab-df-quickchart:hover {\n",
              "    background-color: #E2EBFA;\n",
              "    box-shadow: 0px 1px 2px rgba(60, 64, 67, 0.3), 0px 1px 3px 1px rgba(60, 64, 67, 0.15);\n",
              "    fill: #174EA6;\n",
              "  }\n",
              "\n",
              "  [theme=dark] .colab-df-quickchart {\n",
              "    background-color: #3B4455;\n",
              "    fill: #D2E3FC;\n",
              "  }\n",
              "\n",
              "  [theme=dark] .colab-df-quickchart:hover {\n",
              "    background-color: #434B5C;\n",
              "    box-shadow: 0px 1px 3px 1px rgba(0, 0, 0, 0.15);\n",
              "    filter: drop-shadow(0px 1px 2px rgba(0, 0, 0, 0.3));\n",
              "    fill: #FFFFFF;\n",
              "  }\n",
              "</style>\n",
              "\n",
              "    <script>\n",
              "      async function quickchart(key) {\n",
              "        const containerElement = document.querySelector('#' + key);\n",
              "        const charts = await google.colab.kernel.invokeFunction(\n",
              "            'suggestCharts', [key], {});\n",
              "      }\n",
              "    </script>\n",
              "\n",
              "      <script>\n",
              "\n",
              "function displayQuickchartButton(domScope) {\n",
              "  let quickchartButtonEl =\n",
              "    domScope.querySelector('#df-07695044-ba38-4f5b-83c8-d5e8ecd9df07 button.colab-df-quickchart');\n",
              "  quickchartButtonEl.style.display =\n",
              "    google.colab.kernel.accessAllowed ? 'block' : 'none';\n",
              "}\n",
              "\n",
              "        displayQuickchartButton(document);\n",
              "      </script>\n",
              "      <style>\n",
              "    .colab-df-container {\n",
              "      display:flex;\n",
              "      flex-wrap:wrap;\n",
              "      gap: 12px;\n",
              "    }\n",
              "\n",
              "    .colab-df-convert {\n",
              "      background-color: #E8F0FE;\n",
              "      border: none;\n",
              "      border-radius: 50%;\n",
              "      cursor: pointer;\n",
              "      display: none;\n",
              "      fill: #1967D2;\n",
              "      height: 32px;\n",
              "      padding: 0 0 0 0;\n",
              "      width: 32px;\n",
              "    }\n",
              "\n",
              "    .colab-df-convert:hover {\n",
              "      background-color: #E2EBFA;\n",
              "      box-shadow: 0px 1px 2px rgba(60, 64, 67, 0.3), 0px 1px 3px 1px rgba(60, 64, 67, 0.15);\n",
              "      fill: #174EA6;\n",
              "    }\n",
              "\n",
              "    [theme=dark] .colab-df-convert {\n",
              "      background-color: #3B4455;\n",
              "      fill: #D2E3FC;\n",
              "    }\n",
              "\n",
              "    [theme=dark] .colab-df-convert:hover {\n",
              "      background-color: #434B5C;\n",
              "      box-shadow: 0px 1px 3px 1px rgba(0, 0, 0, 0.15);\n",
              "      filter: drop-shadow(0px 1px 2px rgba(0, 0, 0, 0.3));\n",
              "      fill: #FFFFFF;\n",
              "    }\n",
              "  </style>\n",
              "\n",
              "      <script>\n",
              "        const buttonEl =\n",
              "          document.querySelector('#df-e240f3e8-055f-4770-9e41-6b1b5be86a52 button.colab-df-convert');\n",
              "        buttonEl.style.display =\n",
              "          google.colab.kernel.accessAllowed ? 'block' : 'none';\n",
              "\n",
              "        async function convertToInteractive(key) {\n",
              "          const element = document.querySelector('#df-e240f3e8-055f-4770-9e41-6b1b5be86a52');\n",
              "          const dataTable =\n",
              "            await google.colab.kernel.invokeFunction('convertToInteractive',\n",
              "                                                     [key], {});\n",
              "          if (!dataTable) return;\n",
              "\n",
              "          const docLinkHtml = 'Like what you see? Visit the ' +\n",
              "            '<a target=\"_blank\" href=https://colab.research.google.com/notebooks/data_table.ipynb>data table notebook</a>'\n",
              "            + ' to learn more about interactive tables.';\n",
              "          element.innerHTML = '';\n",
              "          dataTable['output_type'] = 'display_data';\n",
              "          await google.colab.output.renderOutput(dataTable, element);\n",
              "          const docLink = document.createElement('div');\n",
              "          docLink.innerHTML = docLinkHtml;\n",
              "          element.appendChild(docLink);\n",
              "        }\n",
              "      </script>\n",
              "    </div>\n",
              "  </div>\n"
            ]
          },
          "metadata": {},
          "execution_count": 20
        }
      ]
    },
    {
      "cell_type": "markdown",
      "source": [
        "# Scores"
      ],
      "metadata": {
        "id": "kmi2_oxiL0CT"
      }
    },
    {
      "cell_type": "markdown",
      "source": [
        "Combine df to see if score of respondents improved."
      ],
      "metadata": {
        "id": "Ai3IuYS8L3Og"
      }
    },
    {
      "cell_type": "code",
      "source": [
        "# Column Names of Concepts\n",
        "concepts = ['App Permission',\t'Username Selection',\t'Photo Selection',\t'Caption Selection',\t'Location Data',\t'Post Visibility',\t'Removal of Tags',\t'Persuasive Features',\t'Tagging Behavior']"
      ],
      "metadata": {
        "id": "FCGzB6FgMAvd"
      },
      "execution_count": 21,
      "outputs": []
    },
    {
      "cell_type": "markdown",
      "source": [
        "### Scores Summary"
      ],
      "metadata": {
        "id": "-LkZnPU7W75R"
      }
    },
    {
      "cell_type": "code",
      "source": [
        "import pandas as pd\n",
        "import numpy as np\n",
        "\n",
        "# Assuming you have the DataFrames df_pregame and df_postgame\n",
        "\n",
        "# Merge the DataFrames using the Email column as the key\n",
        "df_merged = pd.merge(df_pregame, df_postgame, on='Email')\n",
        "\n",
        "# Create a new DataFrame to store the results\n",
        "df_improvement = pd.DataFrame()\n",
        "\n",
        "# Add the Email column as the first column\n",
        "df_improvement['Email'] = df_merged['Email']\n",
        "\n",
        "# Iterate over the concepts\n",
        "for concept in concepts:\n",
        "    # Extract the columns for the current concept from the merged DataFrame\n",
        "    pregame_scores = df_merged[f'{concept}_x']\n",
        "    postgame_scores = df_merged[f'{concept}_y']\n",
        "\n",
        "    # Compare the scores and create a new column indicating improvement\n",
        "    improvement = np.where(postgame_scores > pregame_scores, 'Improved', np.where(postgame_scores == pregame_scores, 'Unchanged', 'Lowered'))\n",
        "\n",
        "    # Add the improvement column to the results DataFrame\n",
        "    df_improvement[f'{concept} Improvement'] = improvement\n",
        "\n",
        "# Add a new column for overall improvement\n",
        "overall_improvement = df_improvement.iloc[:, 1:-1].mode(axis=1, dropna=False).iloc[:, 0].fillna('No Improvement')\n",
        "df_improvement['Overall Improvement'] = overall_improvement\n",
        "\n",
        "# View the results\n",
        "df_improvement\n",
        "\n"
      ],
      "metadata": {
        "id": "ZTIHHtBiL2HW",
        "colab": {
          "base_uri": "https://localhost:8080/",
          "height": 1000
        },
        "outputId": "8dd349a7-203e-4144-ef87-5e3480ebe934"
      },
      "execution_count": 22,
      "outputs": [
        {
          "output_type": "execute_result",
          "data": {
            "text/plain": [
              "                                 Email App Permission Improvement  \\\n",
              "0              russel_john01@yahoo.com                   Improved   \n",
              "1                       tcdy@up.edu.ph                   Improved   \n",
              "2               a.l.a.tecson@gmail.com                  Unchanged   \n",
              "3                    rscruz7@up.edu.ph                  Unchanged   \n",
              "4                 hhdecastro@up.edu.ph                  Unchanged   \n",
              "5            yuan_dumandan@dlsu.edu.ph                  Unchanged   \n",
              "6               karlostuazon@gmail.com                   Improved   \n",
              "7                   jsdoros1@up.edu.ph                   Improved   \n",
              "8                   cllopez3@up.edu.ph                   Improved   \n",
              "9             gilliancruz801@gmail.com                    Lowered   \n",
              "10             mceapastrana@tip.edu.ph                  Unchanged   \n",
              "11              jdmanzanares@up.edu.ph                  Unchanged   \n",
              "12                 caaquino4@up.edu.ph                  Unchanged   \n",
              "13                   jsdoros@up.edu.ph                    Lowered   \n",
              "14                   dnangot@up.edu.ph                   Improved   \n",
              "15                jbsiquioco@up.edu.ph                  Unchanged   \n",
              "16              tomoefajardo@gmail.com                   Improved   \n",
              "17   gabrielle.constantino11@gmail.com                  Unchanged   \n",
              "18  AnimalPhysio2ndSem201819@gmail.com                  Unchanged   \n",
              "19                agusmikael@gmail.com                  Unchanged   \n",
              "20             cjpmanongsong@gmail.com                   Improved   \n",
              "21                ldapostol1@up.edu.ph                   Improved   \n",
              "22               jareddantis@gmail.com                  Unchanged   \n",
              "23           czarina.dycaico@gmail.com                   Improved   \n",
              "24              jarredluzada@gmail.com                  Unchanged   \n",
              "25                hssanchez1@up.edu.ph                   Improved   \n",
              "26                 jh.adorna@gmail.com                  Unchanged   \n",
              "27              nuanpatricia@gmail.com                  Unchanged   \n",
              "28        johnivanloristo769@gmail.com                  Unchanged   \n",
              "29             rulecamille23@gmail.com                  Unchanged   \n",
              "30           michaelmorco888@gmail.com                   Improved   \n",
              "31                   mbmorco@gmail.com                  Unchanged   \n",
              "32             roelivan.cruz@gmail.com                  Unchanged   \n",
              "33                  rsnakano@up.edu.ph                  Unchanged   \n",
              "34           kristine_bqn@yahoo.com.ph                  Unchanged   \n",
              "\n",
              "   Username Selection Improvement Photo Selection Improvement  \\\n",
              "0                        Improved                    Improved   \n",
              "1                        Improved                    Improved   \n",
              "2                       Unchanged                   Unchanged   \n",
              "3                        Improved                    Improved   \n",
              "4                        Improved                   Unchanged   \n",
              "5                        Improved                    Improved   \n",
              "6                       Unchanged                   Unchanged   \n",
              "7                        Improved                    Improved   \n",
              "8                        Improved                     Lowered   \n",
              "9                         Lowered                     Lowered   \n",
              "10                      Unchanged                   Unchanged   \n",
              "11                       Improved                    Improved   \n",
              "12                      Unchanged                   Unchanged   \n",
              "13                       Improved                   Unchanged   \n",
              "14                       Improved                   Unchanged   \n",
              "15                      Unchanged                   Unchanged   \n",
              "16                      Unchanged                   Unchanged   \n",
              "17                       Improved                   Unchanged   \n",
              "18                      Unchanged                   Unchanged   \n",
              "19                       Improved                    Improved   \n",
              "20                       Improved                    Improved   \n",
              "21                       Improved                    Improved   \n",
              "22                      Unchanged                   Unchanged   \n",
              "23                        Lowered                     Lowered   \n",
              "24                      Unchanged                   Unchanged   \n",
              "25                      Unchanged                   Unchanged   \n",
              "26                       Improved                    Improved   \n",
              "27                      Unchanged                   Unchanged   \n",
              "28                      Unchanged                   Unchanged   \n",
              "29                       Improved                    Improved   \n",
              "30                       Improved                   Unchanged   \n",
              "31                      Unchanged                   Unchanged   \n",
              "32                       Improved                   Unchanged   \n",
              "33                       Improved                    Improved   \n",
              "34                      Unchanged                   Unchanged   \n",
              "\n",
              "   Caption Selection Improvement Location Data Improvement  \\\n",
              "0                       Improved                  Improved   \n",
              "1                       Improved                  Improved   \n",
              "2                      Unchanged                 Unchanged   \n",
              "3                       Improved                 Unchanged   \n",
              "4                       Improved                 Unchanged   \n",
              "5                      Unchanged                 Unchanged   \n",
              "6                       Improved                  Improved   \n",
              "7                       Improved                  Improved   \n",
              "8                       Improved                 Unchanged   \n",
              "9                        Lowered                   Lowered   \n",
              "10                     Unchanged                 Unchanged   \n",
              "11                      Improved                   Lowered   \n",
              "12                     Unchanged                 Unchanged   \n",
              "13                     Unchanged                 Unchanged   \n",
              "14                     Unchanged                  Improved   \n",
              "15                       Lowered                   Lowered   \n",
              "16                      Improved                 Unchanged   \n",
              "17                      Improved                 Unchanged   \n",
              "18                     Unchanged                 Unchanged   \n",
              "19                      Improved                  Improved   \n",
              "20                      Improved                 Unchanged   \n",
              "21                      Improved                 Unchanged   \n",
              "22                     Unchanged                 Unchanged   \n",
              "23                     Unchanged                   Lowered   \n",
              "24                     Unchanged                 Unchanged   \n",
              "25                      Improved                 Unchanged   \n",
              "26                      Improved                  Improved   \n",
              "27                      Improved                 Unchanged   \n",
              "28                     Unchanged                 Unchanged   \n",
              "29                      Improved                 Unchanged   \n",
              "30                      Improved                 Unchanged   \n",
              "31                      Improved                 Unchanged   \n",
              "32                      Improved                 Unchanged   \n",
              "33                      Improved                 Unchanged   \n",
              "34                     Unchanged                 Unchanged   \n",
              "\n",
              "   Post Visibility Improvement Removal of Tags Improvement  \\\n",
              "0                    Unchanged                    Improved   \n",
              "1                     Improved                    Improved   \n",
              "2                    Unchanged                   Unchanged   \n",
              "3                    Unchanged                   Unchanged   \n",
              "4                     Improved                   Unchanged   \n",
              "5                    Unchanged                   Unchanged   \n",
              "6                     Improved                    Improved   \n",
              "7                     Improved                   Unchanged   \n",
              "8                    Unchanged                    Improved   \n",
              "9                      Lowered                     Lowered   \n",
              "10                   Unchanged                   Unchanged   \n",
              "11                    Improved                   Unchanged   \n",
              "12                   Unchanged                   Unchanged   \n",
              "13                   Unchanged                   Unchanged   \n",
              "14                   Unchanged                     Lowered   \n",
              "15                     Lowered                   Unchanged   \n",
              "16                   Unchanged                    Improved   \n",
              "17                   Unchanged                   Unchanged   \n",
              "18                   Unchanged                   Unchanged   \n",
              "19                    Improved                   Unchanged   \n",
              "20                   Unchanged                    Improved   \n",
              "21                    Improved                    Improved   \n",
              "22                   Unchanged                   Unchanged   \n",
              "23                     Lowered                     Lowered   \n",
              "24                   Unchanged                   Unchanged   \n",
              "25                    Improved                    Improved   \n",
              "26                   Unchanged                    Improved   \n",
              "27                   Unchanged                   Unchanged   \n",
              "28                   Unchanged                   Unchanged   \n",
              "29                   Unchanged                   Unchanged   \n",
              "30                   Unchanged                    Improved   \n",
              "31                   Unchanged                    Improved   \n",
              "32                    Improved                    Improved   \n",
              "33                   Unchanged                    Improved   \n",
              "34                   Unchanged                    Improved   \n",
              "\n",
              "   Persuasive Features Improvement Tagging Behavior Improvement  \\\n",
              "0                          Lowered                    Unchanged   \n",
              "1                         Improved                     Improved   \n",
              "2                        Unchanged                    Unchanged   \n",
              "3                         Improved                    Unchanged   \n",
              "4                         Improved                     Improved   \n",
              "5                        Unchanged                    Unchanged   \n",
              "6                         Improved                     Improved   \n",
              "7                        Unchanged                    Unchanged   \n",
              "8                         Improved                     Improved   \n",
              "9                          Lowered                      Lowered   \n",
              "10                       Unchanged                    Unchanged   \n",
              "11                        Improved                     Improved   \n",
              "12                       Unchanged                    Unchanged   \n",
              "13                        Improved                     Improved   \n",
              "14                       Unchanged                      Lowered   \n",
              "15                         Lowered                    Unchanged   \n",
              "16                       Unchanged                     Improved   \n",
              "17                        Improved                    Unchanged   \n",
              "18                       Unchanged                    Unchanged   \n",
              "19                        Improved                      Lowered   \n",
              "20                        Improved                    Unchanged   \n",
              "21                        Improved                     Improved   \n",
              "22                       Unchanged                    Unchanged   \n",
              "23                         Lowered                      Lowered   \n",
              "24                       Unchanged                    Unchanged   \n",
              "25                       Unchanged                     Improved   \n",
              "26                        Improved                     Improved   \n",
              "27                       Unchanged                     Improved   \n",
              "28                       Unchanged                      Lowered   \n",
              "29                       Unchanged                    Unchanged   \n",
              "30                       Unchanged                     Improved   \n",
              "31                       Unchanged                     Improved   \n",
              "32                        Improved                     Improved   \n",
              "33                       Unchanged                     Improved   \n",
              "34                       Unchanged                     Improved   \n",
              "\n",
              "   Overall Improvement  \n",
              "0             Improved  \n",
              "1             Improved  \n",
              "2            Unchanged  \n",
              "3             Improved  \n",
              "4             Improved  \n",
              "5            Unchanged  \n",
              "6             Improved  \n",
              "7             Improved  \n",
              "8             Improved  \n",
              "9              Lowered  \n",
              "10           Unchanged  \n",
              "11            Improved  \n",
              "12           Unchanged  \n",
              "13           Unchanged  \n",
              "14           Unchanged  \n",
              "15             Lowered  \n",
              "16           Unchanged  \n",
              "17           Unchanged  \n",
              "18           Unchanged  \n",
              "19            Improved  \n",
              "20            Improved  \n",
              "21            Improved  \n",
              "22           Unchanged  \n",
              "23             Lowered  \n",
              "24           Unchanged  \n",
              "25            Improved  \n",
              "26            Improved  \n",
              "27           Unchanged  \n",
              "28           Unchanged  \n",
              "29           Unchanged  \n",
              "30            Improved  \n",
              "31           Unchanged  \n",
              "32            Improved  \n",
              "33            Improved  \n",
              "34           Unchanged  "
            ],
            "text/html": [
              "\n",
              "\n",
              "  <div id=\"df-a3179186-f618-43d5-9a2c-2587cbbe8b72\">\n",
              "    <div class=\"colab-df-container\">\n",
              "      <div>\n",
              "<style scoped>\n",
              "    .dataframe tbody tr th:only-of-type {\n",
              "        vertical-align: middle;\n",
              "    }\n",
              "\n",
              "    .dataframe tbody tr th {\n",
              "        vertical-align: top;\n",
              "    }\n",
              "\n",
              "    .dataframe thead th {\n",
              "        text-align: right;\n",
              "    }\n",
              "</style>\n",
              "<table border=\"1\" class=\"dataframe\">\n",
              "  <thead>\n",
              "    <tr style=\"text-align: right;\">\n",
              "      <th></th>\n",
              "      <th>Email</th>\n",
              "      <th>App Permission Improvement</th>\n",
              "      <th>Username Selection Improvement</th>\n",
              "      <th>Photo Selection Improvement</th>\n",
              "      <th>Caption Selection Improvement</th>\n",
              "      <th>Location Data Improvement</th>\n",
              "      <th>Post Visibility Improvement</th>\n",
              "      <th>Removal of Tags Improvement</th>\n",
              "      <th>Persuasive Features Improvement</th>\n",
              "      <th>Tagging Behavior Improvement</th>\n",
              "      <th>Overall Improvement</th>\n",
              "    </tr>\n",
              "  </thead>\n",
              "  <tbody>\n",
              "    <tr>\n",
              "      <th>0</th>\n",
              "      <td>russel_john01@yahoo.com</td>\n",
              "      <td>Improved</td>\n",
              "      <td>Improved</td>\n",
              "      <td>Improved</td>\n",
              "      <td>Improved</td>\n",
              "      <td>Improved</td>\n",
              "      <td>Unchanged</td>\n",
              "      <td>Improved</td>\n",
              "      <td>Lowered</td>\n",
              "      <td>Unchanged</td>\n",
              "      <td>Improved</td>\n",
              "    </tr>\n",
              "    <tr>\n",
              "      <th>1</th>\n",
              "      <td>tcdy@up.edu.ph</td>\n",
              "      <td>Improved</td>\n",
              "      <td>Improved</td>\n",
              "      <td>Improved</td>\n",
              "      <td>Improved</td>\n",
              "      <td>Improved</td>\n",
              "      <td>Improved</td>\n",
              "      <td>Improved</td>\n",
              "      <td>Improved</td>\n",
              "      <td>Improved</td>\n",
              "      <td>Improved</td>\n",
              "    </tr>\n",
              "    <tr>\n",
              "      <th>2</th>\n",
              "      <td>a.l.a.tecson@gmail.com</td>\n",
              "      <td>Unchanged</td>\n",
              "      <td>Unchanged</td>\n",
              "      <td>Unchanged</td>\n",
              "      <td>Unchanged</td>\n",
              "      <td>Unchanged</td>\n",
              "      <td>Unchanged</td>\n",
              "      <td>Unchanged</td>\n",
              "      <td>Unchanged</td>\n",
              "      <td>Unchanged</td>\n",
              "      <td>Unchanged</td>\n",
              "    </tr>\n",
              "    <tr>\n",
              "      <th>3</th>\n",
              "      <td>rscruz7@up.edu.ph</td>\n",
              "      <td>Unchanged</td>\n",
              "      <td>Improved</td>\n",
              "      <td>Improved</td>\n",
              "      <td>Improved</td>\n",
              "      <td>Unchanged</td>\n",
              "      <td>Unchanged</td>\n",
              "      <td>Unchanged</td>\n",
              "      <td>Improved</td>\n",
              "      <td>Unchanged</td>\n",
              "      <td>Improved</td>\n",
              "    </tr>\n",
              "    <tr>\n",
              "      <th>4</th>\n",
              "      <td>hhdecastro@up.edu.ph</td>\n",
              "      <td>Unchanged</td>\n",
              "      <td>Improved</td>\n",
              "      <td>Unchanged</td>\n",
              "      <td>Improved</td>\n",
              "      <td>Unchanged</td>\n",
              "      <td>Improved</td>\n",
              "      <td>Unchanged</td>\n",
              "      <td>Improved</td>\n",
              "      <td>Improved</td>\n",
              "      <td>Improved</td>\n",
              "    </tr>\n",
              "    <tr>\n",
              "      <th>5</th>\n",
              "      <td>yuan_dumandan@dlsu.edu.ph</td>\n",
              "      <td>Unchanged</td>\n",
              "      <td>Improved</td>\n",
              "      <td>Improved</td>\n",
              "      <td>Unchanged</td>\n",
              "      <td>Unchanged</td>\n",
              "      <td>Unchanged</td>\n",
              "      <td>Unchanged</td>\n",
              "      <td>Unchanged</td>\n",
              "      <td>Unchanged</td>\n",
              "      <td>Unchanged</td>\n",
              "    </tr>\n",
              "    <tr>\n",
              "      <th>6</th>\n",
              "      <td>karlostuazon@gmail.com</td>\n",
              "      <td>Improved</td>\n",
              "      <td>Unchanged</td>\n",
              "      <td>Unchanged</td>\n",
              "      <td>Improved</td>\n",
              "      <td>Improved</td>\n",
              "      <td>Improved</td>\n",
              "      <td>Improved</td>\n",
              "      <td>Improved</td>\n",
              "      <td>Improved</td>\n",
              "      <td>Improved</td>\n",
              "    </tr>\n",
              "    <tr>\n",
              "      <th>7</th>\n",
              "      <td>jsdoros1@up.edu.ph</td>\n",
              "      <td>Improved</td>\n",
              "      <td>Improved</td>\n",
              "      <td>Improved</td>\n",
              "      <td>Improved</td>\n",
              "      <td>Improved</td>\n",
              "      <td>Improved</td>\n",
              "      <td>Unchanged</td>\n",
              "      <td>Unchanged</td>\n",
              "      <td>Unchanged</td>\n",
              "      <td>Improved</td>\n",
              "    </tr>\n",
              "    <tr>\n",
              "      <th>8</th>\n",
              "      <td>cllopez3@up.edu.ph</td>\n",
              "      <td>Improved</td>\n",
              "      <td>Improved</td>\n",
              "      <td>Lowered</td>\n",
              "      <td>Improved</td>\n",
              "      <td>Unchanged</td>\n",
              "      <td>Unchanged</td>\n",
              "      <td>Improved</td>\n",
              "      <td>Improved</td>\n",
              "      <td>Improved</td>\n",
              "      <td>Improved</td>\n",
              "    </tr>\n",
              "    <tr>\n",
              "      <th>9</th>\n",
              "      <td>gilliancruz801@gmail.com</td>\n",
              "      <td>Lowered</td>\n",
              "      <td>Lowered</td>\n",
              "      <td>Lowered</td>\n",
              "      <td>Lowered</td>\n",
              "      <td>Lowered</td>\n",
              "      <td>Lowered</td>\n",
              "      <td>Lowered</td>\n",
              "      <td>Lowered</td>\n",
              "      <td>Lowered</td>\n",
              "      <td>Lowered</td>\n",
              "    </tr>\n",
              "    <tr>\n",
              "      <th>10</th>\n",
              "      <td>mceapastrana@tip.edu.ph</td>\n",
              "      <td>Unchanged</td>\n",
              "      <td>Unchanged</td>\n",
              "      <td>Unchanged</td>\n",
              "      <td>Unchanged</td>\n",
              "      <td>Unchanged</td>\n",
              "      <td>Unchanged</td>\n",
              "      <td>Unchanged</td>\n",
              "      <td>Unchanged</td>\n",
              "      <td>Unchanged</td>\n",
              "      <td>Unchanged</td>\n",
              "    </tr>\n",
              "    <tr>\n",
              "      <th>11</th>\n",
              "      <td>jdmanzanares@up.edu.ph</td>\n",
              "      <td>Unchanged</td>\n",
              "      <td>Improved</td>\n",
              "      <td>Improved</td>\n",
              "      <td>Improved</td>\n",
              "      <td>Lowered</td>\n",
              "      <td>Improved</td>\n",
              "      <td>Unchanged</td>\n",
              "      <td>Improved</td>\n",
              "      <td>Improved</td>\n",
              "      <td>Improved</td>\n",
              "    </tr>\n",
              "    <tr>\n",
              "      <th>12</th>\n",
              "      <td>caaquino4@up.edu.ph</td>\n",
              "      <td>Unchanged</td>\n",
              "      <td>Unchanged</td>\n",
              "      <td>Unchanged</td>\n",
              "      <td>Unchanged</td>\n",
              "      <td>Unchanged</td>\n",
              "      <td>Unchanged</td>\n",
              "      <td>Unchanged</td>\n",
              "      <td>Unchanged</td>\n",
              "      <td>Unchanged</td>\n",
              "      <td>Unchanged</td>\n",
              "    </tr>\n",
              "    <tr>\n",
              "      <th>13</th>\n",
              "      <td>jsdoros@up.edu.ph</td>\n",
              "      <td>Lowered</td>\n",
              "      <td>Improved</td>\n",
              "      <td>Unchanged</td>\n",
              "      <td>Unchanged</td>\n",
              "      <td>Unchanged</td>\n",
              "      <td>Unchanged</td>\n",
              "      <td>Unchanged</td>\n",
              "      <td>Improved</td>\n",
              "      <td>Improved</td>\n",
              "      <td>Unchanged</td>\n",
              "    </tr>\n",
              "    <tr>\n",
              "      <th>14</th>\n",
              "      <td>dnangot@up.edu.ph</td>\n",
              "      <td>Improved</td>\n",
              "      <td>Improved</td>\n",
              "      <td>Unchanged</td>\n",
              "      <td>Unchanged</td>\n",
              "      <td>Improved</td>\n",
              "      <td>Unchanged</td>\n",
              "      <td>Lowered</td>\n",
              "      <td>Unchanged</td>\n",
              "      <td>Lowered</td>\n",
              "      <td>Unchanged</td>\n",
              "    </tr>\n",
              "    <tr>\n",
              "      <th>15</th>\n",
              "      <td>jbsiquioco@up.edu.ph</td>\n",
              "      <td>Unchanged</td>\n",
              "      <td>Unchanged</td>\n",
              "      <td>Unchanged</td>\n",
              "      <td>Lowered</td>\n",
              "      <td>Lowered</td>\n",
              "      <td>Lowered</td>\n",
              "      <td>Unchanged</td>\n",
              "      <td>Lowered</td>\n",
              "      <td>Unchanged</td>\n",
              "      <td>Lowered</td>\n",
              "    </tr>\n",
              "    <tr>\n",
              "      <th>16</th>\n",
              "      <td>tomoefajardo@gmail.com</td>\n",
              "      <td>Improved</td>\n",
              "      <td>Unchanged</td>\n",
              "      <td>Unchanged</td>\n",
              "      <td>Improved</td>\n",
              "      <td>Unchanged</td>\n",
              "      <td>Unchanged</td>\n",
              "      <td>Improved</td>\n",
              "      <td>Unchanged</td>\n",
              "      <td>Improved</td>\n",
              "      <td>Unchanged</td>\n",
              "    </tr>\n",
              "    <tr>\n",
              "      <th>17</th>\n",
              "      <td>gabrielle.constantino11@gmail.com</td>\n",
              "      <td>Unchanged</td>\n",
              "      <td>Improved</td>\n",
              "      <td>Unchanged</td>\n",
              "      <td>Improved</td>\n",
              "      <td>Unchanged</td>\n",
              "      <td>Unchanged</td>\n",
              "      <td>Unchanged</td>\n",
              "      <td>Improved</td>\n",
              "      <td>Unchanged</td>\n",
              "      <td>Unchanged</td>\n",
              "    </tr>\n",
              "    <tr>\n",
              "      <th>18</th>\n",
              "      <td>AnimalPhysio2ndSem201819@gmail.com</td>\n",
              "      <td>Unchanged</td>\n",
              "      <td>Unchanged</td>\n",
              "      <td>Unchanged</td>\n",
              "      <td>Unchanged</td>\n",
              "      <td>Unchanged</td>\n",
              "      <td>Unchanged</td>\n",
              "      <td>Unchanged</td>\n",
              "      <td>Unchanged</td>\n",
              "      <td>Unchanged</td>\n",
              "      <td>Unchanged</td>\n",
              "    </tr>\n",
              "    <tr>\n",
              "      <th>19</th>\n",
              "      <td>agusmikael@gmail.com</td>\n",
              "      <td>Unchanged</td>\n",
              "      <td>Improved</td>\n",
              "      <td>Improved</td>\n",
              "      <td>Improved</td>\n",
              "      <td>Improved</td>\n",
              "      <td>Improved</td>\n",
              "      <td>Unchanged</td>\n",
              "      <td>Improved</td>\n",
              "      <td>Lowered</td>\n",
              "      <td>Improved</td>\n",
              "    </tr>\n",
              "    <tr>\n",
              "      <th>20</th>\n",
              "      <td>cjpmanongsong@gmail.com</td>\n",
              "      <td>Improved</td>\n",
              "      <td>Improved</td>\n",
              "      <td>Improved</td>\n",
              "      <td>Improved</td>\n",
              "      <td>Unchanged</td>\n",
              "      <td>Unchanged</td>\n",
              "      <td>Improved</td>\n",
              "      <td>Improved</td>\n",
              "      <td>Unchanged</td>\n",
              "      <td>Improved</td>\n",
              "    </tr>\n",
              "    <tr>\n",
              "      <th>21</th>\n",
              "      <td>ldapostol1@up.edu.ph</td>\n",
              "      <td>Improved</td>\n",
              "      <td>Improved</td>\n",
              "      <td>Improved</td>\n",
              "      <td>Improved</td>\n",
              "      <td>Unchanged</td>\n",
              "      <td>Improved</td>\n",
              "      <td>Improved</td>\n",
              "      <td>Improved</td>\n",
              "      <td>Improved</td>\n",
              "      <td>Improved</td>\n",
              "    </tr>\n",
              "    <tr>\n",
              "      <th>22</th>\n",
              "      <td>jareddantis@gmail.com</td>\n",
              "      <td>Unchanged</td>\n",
              "      <td>Unchanged</td>\n",
              "      <td>Unchanged</td>\n",
              "      <td>Unchanged</td>\n",
              "      <td>Unchanged</td>\n",
              "      <td>Unchanged</td>\n",
              "      <td>Unchanged</td>\n",
              "      <td>Unchanged</td>\n",
              "      <td>Unchanged</td>\n",
              "      <td>Unchanged</td>\n",
              "    </tr>\n",
              "    <tr>\n",
              "      <th>23</th>\n",
              "      <td>czarina.dycaico@gmail.com</td>\n",
              "      <td>Improved</td>\n",
              "      <td>Lowered</td>\n",
              "      <td>Lowered</td>\n",
              "      <td>Unchanged</td>\n",
              "      <td>Lowered</td>\n",
              "      <td>Lowered</td>\n",
              "      <td>Lowered</td>\n",
              "      <td>Lowered</td>\n",
              "      <td>Lowered</td>\n",
              "      <td>Lowered</td>\n",
              "    </tr>\n",
              "    <tr>\n",
              "      <th>24</th>\n",
              "      <td>jarredluzada@gmail.com</td>\n",
              "      <td>Unchanged</td>\n",
              "      <td>Unchanged</td>\n",
              "      <td>Unchanged</td>\n",
              "      <td>Unchanged</td>\n",
              "      <td>Unchanged</td>\n",
              "      <td>Unchanged</td>\n",
              "      <td>Unchanged</td>\n",
              "      <td>Unchanged</td>\n",
              "      <td>Unchanged</td>\n",
              "      <td>Unchanged</td>\n",
              "    </tr>\n",
              "    <tr>\n",
              "      <th>25</th>\n",
              "      <td>hssanchez1@up.edu.ph</td>\n",
              "      <td>Improved</td>\n",
              "      <td>Unchanged</td>\n",
              "      <td>Unchanged</td>\n",
              "      <td>Improved</td>\n",
              "      <td>Unchanged</td>\n",
              "      <td>Improved</td>\n",
              "      <td>Improved</td>\n",
              "      <td>Unchanged</td>\n",
              "      <td>Improved</td>\n",
              "      <td>Improved</td>\n",
              "    </tr>\n",
              "    <tr>\n",
              "      <th>26</th>\n",
              "      <td>jh.adorna@gmail.com</td>\n",
              "      <td>Unchanged</td>\n",
              "      <td>Improved</td>\n",
              "      <td>Improved</td>\n",
              "      <td>Improved</td>\n",
              "      <td>Improved</td>\n",
              "      <td>Unchanged</td>\n",
              "      <td>Improved</td>\n",
              "      <td>Improved</td>\n",
              "      <td>Improved</td>\n",
              "      <td>Improved</td>\n",
              "    </tr>\n",
              "    <tr>\n",
              "      <th>27</th>\n",
              "      <td>nuanpatricia@gmail.com</td>\n",
              "      <td>Unchanged</td>\n",
              "      <td>Unchanged</td>\n",
              "      <td>Unchanged</td>\n",
              "      <td>Improved</td>\n",
              "      <td>Unchanged</td>\n",
              "      <td>Unchanged</td>\n",
              "      <td>Unchanged</td>\n",
              "      <td>Unchanged</td>\n",
              "      <td>Improved</td>\n",
              "      <td>Unchanged</td>\n",
              "    </tr>\n",
              "    <tr>\n",
              "      <th>28</th>\n",
              "      <td>johnivanloristo769@gmail.com</td>\n",
              "      <td>Unchanged</td>\n",
              "      <td>Unchanged</td>\n",
              "      <td>Unchanged</td>\n",
              "      <td>Unchanged</td>\n",
              "      <td>Unchanged</td>\n",
              "      <td>Unchanged</td>\n",
              "      <td>Unchanged</td>\n",
              "      <td>Unchanged</td>\n",
              "      <td>Lowered</td>\n",
              "      <td>Unchanged</td>\n",
              "    </tr>\n",
              "    <tr>\n",
              "      <th>29</th>\n",
              "      <td>rulecamille23@gmail.com</td>\n",
              "      <td>Unchanged</td>\n",
              "      <td>Improved</td>\n",
              "      <td>Improved</td>\n",
              "      <td>Improved</td>\n",
              "      <td>Unchanged</td>\n",
              "      <td>Unchanged</td>\n",
              "      <td>Unchanged</td>\n",
              "      <td>Unchanged</td>\n",
              "      <td>Unchanged</td>\n",
              "      <td>Unchanged</td>\n",
              "    </tr>\n",
              "    <tr>\n",
              "      <th>30</th>\n",
              "      <td>michaelmorco888@gmail.com</td>\n",
              "      <td>Improved</td>\n",
              "      <td>Improved</td>\n",
              "      <td>Unchanged</td>\n",
              "      <td>Improved</td>\n",
              "      <td>Unchanged</td>\n",
              "      <td>Unchanged</td>\n",
              "      <td>Improved</td>\n",
              "      <td>Unchanged</td>\n",
              "      <td>Improved</td>\n",
              "      <td>Improved</td>\n",
              "    </tr>\n",
              "    <tr>\n",
              "      <th>31</th>\n",
              "      <td>mbmorco@gmail.com</td>\n",
              "      <td>Unchanged</td>\n",
              "      <td>Unchanged</td>\n",
              "      <td>Unchanged</td>\n",
              "      <td>Improved</td>\n",
              "      <td>Unchanged</td>\n",
              "      <td>Unchanged</td>\n",
              "      <td>Improved</td>\n",
              "      <td>Unchanged</td>\n",
              "      <td>Improved</td>\n",
              "      <td>Unchanged</td>\n",
              "    </tr>\n",
              "    <tr>\n",
              "      <th>32</th>\n",
              "      <td>roelivan.cruz@gmail.com</td>\n",
              "      <td>Unchanged</td>\n",
              "      <td>Improved</td>\n",
              "      <td>Unchanged</td>\n",
              "      <td>Improved</td>\n",
              "      <td>Unchanged</td>\n",
              "      <td>Improved</td>\n",
              "      <td>Improved</td>\n",
              "      <td>Improved</td>\n",
              "      <td>Improved</td>\n",
              "      <td>Improved</td>\n",
              "    </tr>\n",
              "    <tr>\n",
              "      <th>33</th>\n",
              "      <td>rsnakano@up.edu.ph</td>\n",
              "      <td>Unchanged</td>\n",
              "      <td>Improved</td>\n",
              "      <td>Improved</td>\n",
              "      <td>Improved</td>\n",
              "      <td>Unchanged</td>\n",
              "      <td>Unchanged</td>\n",
              "      <td>Improved</td>\n",
              "      <td>Unchanged</td>\n",
              "      <td>Improved</td>\n",
              "      <td>Improved</td>\n",
              "    </tr>\n",
              "    <tr>\n",
              "      <th>34</th>\n",
              "      <td>kristine_bqn@yahoo.com.ph</td>\n",
              "      <td>Unchanged</td>\n",
              "      <td>Unchanged</td>\n",
              "      <td>Unchanged</td>\n",
              "      <td>Unchanged</td>\n",
              "      <td>Unchanged</td>\n",
              "      <td>Unchanged</td>\n",
              "      <td>Improved</td>\n",
              "      <td>Unchanged</td>\n",
              "      <td>Improved</td>\n",
              "      <td>Unchanged</td>\n",
              "    </tr>\n",
              "  </tbody>\n",
              "</table>\n",
              "</div>\n",
              "      <button class=\"colab-df-convert\" onclick=\"convertToInteractive('df-a3179186-f618-43d5-9a2c-2587cbbe8b72')\"\n",
              "              title=\"Convert this dataframe to an interactive table.\"\n",
              "              style=\"display:none;\">\n",
              "\n",
              "  <svg xmlns=\"http://www.w3.org/2000/svg\" height=\"24px\"viewBox=\"0 0 24 24\"\n",
              "       width=\"24px\">\n",
              "    <path d=\"M0 0h24v24H0V0z\" fill=\"none\"/>\n",
              "    <path d=\"M18.56 5.44l.94 2.06.94-2.06 2.06-.94-2.06-.94-.94-2.06-.94 2.06-2.06.94zm-11 1L8.5 8.5l.94-2.06 2.06-.94-2.06-.94L8.5 2.5l-.94 2.06-2.06.94zm10 10l.94 2.06.94-2.06 2.06-.94-2.06-.94-.94-2.06-.94 2.06-2.06.94z\"/><path d=\"M17.41 7.96l-1.37-1.37c-.4-.4-.92-.59-1.43-.59-.52 0-1.04.2-1.43.59L10.3 9.45l-7.72 7.72c-.78.78-.78 2.05 0 2.83L4 21.41c.39.39.9.59 1.41.59.51 0 1.02-.2 1.41-.59l7.78-7.78 2.81-2.81c.8-.78.8-2.07 0-2.86zM5.41 20L4 18.59l7.72-7.72 1.47 1.35L5.41 20z\"/>\n",
              "  </svg>\n",
              "      </button>\n",
              "\n",
              "\n",
              "\n",
              "    <div id=\"df-c18fe4b4-d4e2-4c16-b5bd-bd6a40bc2aeb\">\n",
              "      <button class=\"colab-df-quickchart\" onclick=\"quickchart('df-c18fe4b4-d4e2-4c16-b5bd-bd6a40bc2aeb')\"\n",
              "              title=\"Suggest charts.\"\n",
              "              style=\"display:none;\">\n",
              "\n",
              "<svg xmlns=\"http://www.w3.org/2000/svg\" height=\"24px\"viewBox=\"0 0 24 24\"\n",
              "     width=\"24px\">\n",
              "    <g>\n",
              "        <path d=\"M19 3H5c-1.1 0-2 .9-2 2v14c0 1.1.9 2 2 2h14c1.1 0 2-.9 2-2V5c0-1.1-.9-2-2-2zM9 17H7v-7h2v7zm4 0h-2V7h2v10zm4 0h-2v-4h2v4z\"/>\n",
              "    </g>\n",
              "</svg>\n",
              "      </button>\n",
              "    </div>\n",
              "\n",
              "<style>\n",
              "  .colab-df-quickchart {\n",
              "    background-color: #E8F0FE;\n",
              "    border: none;\n",
              "    border-radius: 50%;\n",
              "    cursor: pointer;\n",
              "    display: none;\n",
              "    fill: #1967D2;\n",
              "    height: 32px;\n",
              "    padding: 0 0 0 0;\n",
              "    width: 32px;\n",
              "  }\n",
              "\n",
              "  .colab-df-quickchart:hover {\n",
              "    background-color: #E2EBFA;\n",
              "    box-shadow: 0px 1px 2px rgba(60, 64, 67, 0.3), 0px 1px 3px 1px rgba(60, 64, 67, 0.15);\n",
              "    fill: #174EA6;\n",
              "  }\n",
              "\n",
              "  [theme=dark] .colab-df-quickchart {\n",
              "    background-color: #3B4455;\n",
              "    fill: #D2E3FC;\n",
              "  }\n",
              "\n",
              "  [theme=dark] .colab-df-quickchart:hover {\n",
              "    background-color: #434B5C;\n",
              "    box-shadow: 0px 1px 3px 1px rgba(0, 0, 0, 0.15);\n",
              "    filter: drop-shadow(0px 1px 2px rgba(0, 0, 0, 0.3));\n",
              "    fill: #FFFFFF;\n",
              "  }\n",
              "</style>\n",
              "\n",
              "    <script>\n",
              "      async function quickchart(key) {\n",
              "        const containerElement = document.querySelector('#' + key);\n",
              "        const charts = await google.colab.kernel.invokeFunction(\n",
              "            'suggestCharts', [key], {});\n",
              "      }\n",
              "    </script>\n",
              "\n",
              "      <script>\n",
              "\n",
              "function displayQuickchartButton(domScope) {\n",
              "  let quickchartButtonEl =\n",
              "    domScope.querySelector('#df-c18fe4b4-d4e2-4c16-b5bd-bd6a40bc2aeb button.colab-df-quickchart');\n",
              "  quickchartButtonEl.style.display =\n",
              "    google.colab.kernel.accessAllowed ? 'block' : 'none';\n",
              "}\n",
              "\n",
              "        displayQuickchartButton(document);\n",
              "      </script>\n",
              "      <style>\n",
              "    .colab-df-container {\n",
              "      display:flex;\n",
              "      flex-wrap:wrap;\n",
              "      gap: 12px;\n",
              "    }\n",
              "\n",
              "    .colab-df-convert {\n",
              "      background-color: #E8F0FE;\n",
              "      border: none;\n",
              "      border-radius: 50%;\n",
              "      cursor: pointer;\n",
              "      display: none;\n",
              "      fill: #1967D2;\n",
              "      height: 32px;\n",
              "      padding: 0 0 0 0;\n",
              "      width: 32px;\n",
              "    }\n",
              "\n",
              "    .colab-df-convert:hover {\n",
              "      background-color: #E2EBFA;\n",
              "      box-shadow: 0px 1px 2px rgba(60, 64, 67, 0.3), 0px 1px 3px 1px rgba(60, 64, 67, 0.15);\n",
              "      fill: #174EA6;\n",
              "    }\n",
              "\n",
              "    [theme=dark] .colab-df-convert {\n",
              "      background-color: #3B4455;\n",
              "      fill: #D2E3FC;\n",
              "    }\n",
              "\n",
              "    [theme=dark] .colab-df-convert:hover {\n",
              "      background-color: #434B5C;\n",
              "      box-shadow: 0px 1px 3px 1px rgba(0, 0, 0, 0.15);\n",
              "      filter: drop-shadow(0px 1px 2px rgba(0, 0, 0, 0.3));\n",
              "      fill: #FFFFFF;\n",
              "    }\n",
              "  </style>\n",
              "\n",
              "      <script>\n",
              "        const buttonEl =\n",
              "          document.querySelector('#df-a3179186-f618-43d5-9a2c-2587cbbe8b72 button.colab-df-convert');\n",
              "        buttonEl.style.display =\n",
              "          google.colab.kernel.accessAllowed ? 'block' : 'none';\n",
              "\n",
              "        async function convertToInteractive(key) {\n",
              "          const element = document.querySelector('#df-a3179186-f618-43d5-9a2c-2587cbbe8b72');\n",
              "          const dataTable =\n",
              "            await google.colab.kernel.invokeFunction('convertToInteractive',\n",
              "                                                     [key], {});\n",
              "          if (!dataTable) return;\n",
              "\n",
              "          const docLinkHtml = 'Like what you see? Visit the ' +\n",
              "            '<a target=\"_blank\" href=https://colab.research.google.com/notebooks/data_table.ipynb>data table notebook</a>'\n",
              "            + ' to learn more about interactive tables.';\n",
              "          element.innerHTML = '';\n",
              "          dataTable['output_type'] = 'display_data';\n",
              "          await google.colab.output.renderOutput(dataTable, element);\n",
              "          const docLink = document.createElement('div');\n",
              "          docLink.innerHTML = docLinkHtml;\n",
              "          element.appendChild(docLink);\n",
              "        }\n",
              "      </script>\n",
              "    </div>\n",
              "  </div>\n"
            ]
          },
          "metadata": {},
          "execution_count": 22
        }
      ]
    },
    {
      "cell_type": "code",
      "source": [
        "for concept in concepts:\n",
        "    # Count the number of respondents who improved vs lowered\n",
        "    improvement_counts = df_improvement[f'{concept} Improvement'].value_counts()\n",
        "\n",
        "    # Reindex the value counts in the desired order\n",
        "    improvement_counts = improvement_counts.reindex(['Improved', 'Unchanged', 'Lowered'])\n",
        "\n",
        "    # Print the formatted value counts\n",
        "    print(improvement_counts)\n"
      ],
      "metadata": {
        "colab": {
          "base_uri": "https://localhost:8080/"
        },
        "id": "2ji7nhuLDcCM",
        "outputId": "2edecc10-199c-4c2a-aac5-45024555d9fc"
      },
      "execution_count": 23,
      "outputs": [
        {
          "output_type": "stream",
          "name": "stdout",
          "text": [
            "Improved     12\n",
            "Unchanged    21\n",
            "Lowered       2\n",
            "Name: App Permission Improvement, dtype: int64\n",
            "Improved     19\n",
            "Unchanged    14\n",
            "Lowered       2\n",
            "Name: Username Selection Improvement, dtype: int64\n",
            "Improved     12\n",
            "Unchanged    20\n",
            "Lowered       3\n",
            "Name: Photo Selection Improvement, dtype: int64\n",
            "Improved     21\n",
            "Unchanged    12\n",
            "Lowered       2\n",
            "Name: Caption Selection Improvement, dtype: int64\n",
            "Improved      7\n",
            "Unchanged    24\n",
            "Lowered       4\n",
            "Name: Location Data Improvement, dtype: int64\n",
            "Improved      9\n",
            "Unchanged    23\n",
            "Lowered       3\n",
            "Name: Post Visibility Improvement, dtype: int64\n",
            "Improved     14\n",
            "Unchanged    18\n",
            "Lowered       3\n",
            "Name: Removal of Tags Improvement, dtype: int64\n",
            "Improved     13\n",
            "Unchanged    18\n",
            "Lowered       4\n",
            "Name: Persuasive Features Improvement, dtype: int64\n",
            "Improved     16\n",
            "Unchanged    14\n",
            "Lowered       5\n",
            "Name: Tagging Behavior Improvement, dtype: int64\n"
          ]
        }
      ]
    },
    {
      "cell_type": "code",
      "source": [
        "improved = []\n",
        "unchanged = []\n",
        "lowered = []\n",
        "\n",
        "for concept in concepts:\n",
        "    # Count the number of respondents who improved vs lowered\n",
        "    improvement_counts = df_improvement[f'{concept} Improvement'].value_counts()\n",
        "\n",
        "    # Reindex the value counts in the desired order\n",
        "    improvement_counts = improvement_counts.reindex(['Improved', 'Unchanged', 'Lowered'])\n",
        "\n",
        "    # Calculate the ratio of each improvement level over the total population\n",
        "    total_population = improvement_counts.sum()\n",
        "    improvement_ratios = improvement_counts / total_population *100\n",
        "\n",
        "    # Store the counts in respective lists\n",
        "    improved.append(improvement_counts['Improved'])\n",
        "    unchanged.append(improvement_counts['Unchanged'])\n",
        "    lowered.append(improvement_counts['Lowered'])\n",
        "\n",
        "    # Print the formatted improvement ratios\n",
        "    print(improvement_ratios)\n"
      ],
      "metadata": {
        "colab": {
          "base_uri": "https://localhost:8080/"
        },
        "id": "0_sc2VdcIhk5",
        "outputId": "3fa020b7-70ac-4650-a1bb-872a19ad2c8d"
      },
      "execution_count": 24,
      "outputs": [
        {
          "output_type": "stream",
          "name": "stdout",
          "text": [
            "Improved     34.285714\n",
            "Unchanged    60.000000\n",
            "Lowered       5.714286\n",
            "Name: App Permission Improvement, dtype: float64\n",
            "Improved     54.285714\n",
            "Unchanged    40.000000\n",
            "Lowered       5.714286\n",
            "Name: Username Selection Improvement, dtype: float64\n",
            "Improved     34.285714\n",
            "Unchanged    57.142857\n",
            "Lowered       8.571429\n",
            "Name: Photo Selection Improvement, dtype: float64\n",
            "Improved     60.000000\n",
            "Unchanged    34.285714\n",
            "Lowered       5.714286\n",
            "Name: Caption Selection Improvement, dtype: float64\n",
            "Improved     20.000000\n",
            "Unchanged    68.571429\n",
            "Lowered      11.428571\n",
            "Name: Location Data Improvement, dtype: float64\n",
            "Improved     25.714286\n",
            "Unchanged    65.714286\n",
            "Lowered       8.571429\n",
            "Name: Post Visibility Improvement, dtype: float64\n",
            "Improved     40.000000\n",
            "Unchanged    51.428571\n",
            "Lowered       8.571429\n",
            "Name: Removal of Tags Improvement, dtype: float64\n",
            "Improved     37.142857\n",
            "Unchanged    51.428571\n",
            "Lowered      11.428571\n",
            "Name: Persuasive Features Improvement, dtype: float64\n",
            "Improved     45.714286\n",
            "Unchanged    40.000000\n",
            "Lowered      14.285714\n",
            "Name: Tagging Behavior Improvement, dtype: float64\n"
          ]
        }
      ]
    },
    {
      "cell_type": "code",
      "source": [
        "print(max(improved))\n",
        "print(max(unchanged))\n",
        "print(max(lowered))"
      ],
      "metadata": {
        "colab": {
          "base_uri": "https://localhost:8080/"
        },
        "id": "vBGev-l6Ko-u",
        "outputId": "b9bd2e95-28ad-4e4b-c15d-acea9ab421a5"
      },
      "execution_count": 25,
      "outputs": [
        {
          "output_type": "stream",
          "name": "stdout",
          "text": [
            "21\n",
            "24\n",
            "5\n"
          ]
        }
      ]
    },
    {
      "cell_type": "markdown",
      "source": [
        "### Improvement Status for Each Concept"
      ],
      "metadata": {
        "id": "-4xxmnxCWZuk"
      }
    },
    {
      "cell_type": "code",
      "source": [
        "import pandas as pd\n",
        "import matplotlib.pyplot as plt\n",
        "\n",
        "# Assuming you have the DataFrame df_improvement\n",
        "\n",
        "# Select a desired style for the plot\n",
        "plt.style.use('seaborn')\n",
        "\n",
        "# Create a list of improvement statuses\n",
        "improvement_statuses = ['Lowered', 'Unchanged', 'Improved']\n",
        "\n",
        "# Define colors for each improvement status\n",
        "colors = ['red', 'green', 'blue']\n",
        "\n",
        "# Create a figure and axis object\n",
        "fig, ax = plt.subplots()\n",
        "\n",
        "# Iterate over the concepts\n",
        "for concept in concepts:\n",
        "    # Count the number of respondents who improved vs lowered\n",
        "    improvement_counts = df_improvement[f'{concept} Improvement'].value_counts()\n",
        "\n",
        "    # Plot the bar chart with custom colors\n",
        "    improvement_counts.reindex(improvement_statuses).plot(kind='bar', color=colors, ax=ax, alpha=0.7)\n",
        "\n",
        "# Set the plot title and labels\n",
        "plt.title(\"Improvement Status for Concepts\")\n",
        "plt.xlabel(\"Did respondents improve their score?\")\n",
        "plt.ylabel(\"Number of Respondents\")\n",
        "\n",
        "# Create a legend based on the improvement statuses\n",
        "legend_elements = [plt.Rectangle((0, 0), 1, 1, color=color) for color in colors]\n",
        "plt.legend(legend_elements, improvement_statuses)\n",
        "\n",
        "# Show the plot\n",
        "plt.show()\n"
      ],
      "metadata": {
        "colab": {
          "base_uri": "https://localhost:8080/",
          "height": 637
        },
        "id": "w16UTsuyNXb6",
        "outputId": "7df14979-220b-4e8c-fdcc-63c67acf4c08"
      },
      "execution_count": 26,
      "outputs": [
        {
          "output_type": "stream",
          "name": "stderr",
          "text": [
            "<ipython-input-26-45fc0fe24869>:7: MatplotlibDeprecationWarning: The seaborn styles shipped by Matplotlib are deprecated since 3.6, as they no longer correspond to the styles shipped by seaborn. However, they will remain available as 'seaborn-v0_8-<style>'. Alternatively, directly use the seaborn API instead.\n",
            "  plt.style.use('seaborn')\n"
          ]
        },
        {
          "output_type": "display_data",
          "data": {
            "text/plain": [
              "<Figure size 800x550 with 1 Axes>"
            ],
            "image/png": "[encoded data removed]"
          },
          "metadata": {}
        }
      ]
    },
    {
      "cell_type": "code",
      "source": [
        "import pandas as pd\n",
        "import matplotlib.pyplot as plt\n",
        "\n",
        "# Assuming you have the DataFrame df_improvement\n",
        "\n",
        "# Select a desired style for the plot\n",
        "plt.style.use('seaborn')\n",
        "\n",
        "# Create a list of improvement statuses\n",
        "improvement_statuses = ['Lowered', 'Improved', 'Unchanged']\n",
        "\n",
        "# Define colors for each improvement status\n",
        "colors = ['red', 'green', 'blue']\n",
        "\n",
        "# Iterate over the concepts\n",
        "for concept in concepts:\n",
        "    # Count the number of respondents who improved vs lowered\n",
        "    improvement_counts = df_improvement[f'{concept} Improvement'].value_counts()\n",
        "\n",
        "    # Plot the bar chart with custom colors\n",
        "    plt.figure()\n",
        "    improvement_counts.reindex(improvement_statuses).plot(kind='bar', color=colors)\n",
        "\n",
        "    # Set the plot title and labels\n",
        "    plt.title(f\"Improvement Status for {concept}\")\n",
        "    plt.xlabel(\"Did respondents improve their score?\")\n",
        "    plt.ylabel(\"Number of Respondents\")\n",
        "\n",
        "    # Show the plot\n",
        "    plt.show()\n"
      ],
      "metadata": {
        "id": "0mIO5i-0OBT-",
        "colab": {
          "base_uri": "https://localhost:8080/",
          "height": 1000
        },
        "outputId": "3037f5d6-7047-487b-f4c6-1c4ed727d086"
      },
      "execution_count": 27,
      "outputs": [
        {
          "output_type": "stream",
          "name": "stderr",
          "text": [
            "<ipython-input-27-df40265dad55>:7: MatplotlibDeprecationWarning: The seaborn styles shipped by Matplotlib are deprecated since 3.6, as they no longer correspond to the styles shipped by seaborn. However, they will remain available as 'seaborn-v0_8-<style>'. Alternatively, directly use the seaborn API instead.\n",
            "  plt.style.use('seaborn')\n"
          ]
        },
        {
          "output_type": "display_data",
          "data": {
            "text/plain": [
              "<Figure size 800x550 with 1 Axes>"
            ],
            "image/png": "[encoded data removed]"
          },
          "metadata": {}
        },
        {
          "output_type": "display_data",
          "data": {
            "text/plain": [
              "<Figure size 800x550 with 1 Axes>"
            ],
            "image/png": "[encoded data removed]"
          },
          "metadata": {}
        },
        {
          "output_type": "display_data",
          "data": {
            "text/plain": [
              "<Figure size 800x550 with 1 Axes>"
            ],
            "image/png": "[encoded data removed]"
          },
          "metadata": {}
        },
        {
          "output_type": "display_data",
          "data": {
            "text/plain": [
              "<Figure size 800x550 with 1 Axes>"
            ],
            "image/png": "[encoded data removed]"
          },
          "metadata": {}
        },
        {
          "output_type": "display_data",
          "data": {
            "text/plain": [
              "<Figure size 800x550 with 1 Axes>"
            ],
            "image/png": "[encoded data removed]"
          },
          "metadata": {}
        },
        {
          "output_type": "display_data",
          "data": {
            "text/plain": [
              "<Figure size 800x550 with 1 Axes>"
            ],
            "image/png": "[encoded data removed]"
          },
          "metadata": {}
        },
        {
          "output_type": "display_data",
          "data": {
            "text/plain": [
              "<Figure size 800x550 with 1 Axes>"
            ],
            "image/png": "[encoded data removed]"
          },
          "metadata": {}
        },
        {
          "output_type": "display_data",
          "data": {
            "text/plain": [
              "<Figure size 800x550 with 1 Axes>"
            ],
            "image/png": "[encoded data removed]"
          },
          "metadata": {}
        },
        {
          "output_type": "display_data",
          "data": {
            "text/plain": [
              "<Figure size 800x550 with 1 Axes>"
            ],
            "image/png": "[encoded data removed]"
          },
          "metadata": {}
        }
      ]
    },
    {
      "cell_type": "code",
      "source": [
        "import pandas as pd\n",
        "import matplotlib.pyplot as plt\n",
        "\n",
        "# Assuming you have the DataFrame df_improvement\n",
        "\n",
        "# Select a desired style for the plot\n",
        "plt.style.use('seaborn')\n",
        "\n",
        "# Create a list of improvement statuses\n",
        "improvement_statuses = ['Improved', 'Unchanged', 'Lowered']\n",
        "\n",
        "# Define colors for each improvement status\n",
        "colors = ['blue', 'green', 'red']\n",
        "\n",
        "# Calculate the number of rows and columns for the subplots\n",
        "num_rows = (len(concepts) + 2) // 3  # Round up to the nearest integer\n",
        "num_cols = min(len(concepts), 3)\n",
        "\n",
        "# Create a figure and axis objects for the subplots\n",
        "fig, axs = plt.subplots(num_rows, num_cols, figsize=(20, 4 * num_rows))\n",
        "\n",
        "# Iterate over rows and columns\n",
        "for row in range(num_rows):\n",
        "    for col in range(num_cols):\n",
        "        idx = row * num_cols + col  # Calculate the index for the current subplot\n",
        "\n",
        "        if idx < len(concepts):\n",
        "            concept = concepts[idx]  # Get the corresponding concept\n",
        "\n",
        "            # Create a bar chart for the current concept\n",
        "            ax = axs[row, col]\n",
        "            improvement_counts = df_improvement[f'{concept} Improvement'].value_counts()\n",
        "            improvement_counts.reindex(improvement_statuses).plot(kind='bar', color=colors, ax=ax, alpha=0.7)\n",
        "            ax.set_title(f\"{concept}\")\n",
        "\n",
        "            # Rotate the x-axis tick labels\n",
        "            ax.set_xticklabels(ax.get_xticklabels(), rotation=45, ha='right')\n",
        "\n",
        "# Set common x-label and y-label for the entire figure\n",
        "fig.text(0.5, 0.02, \"Did respondents improve their score?\", ha='center', va='center')\n",
        "\n",
        "# Adjust the spacing between subplots\n",
        "plt.subplots_adjust(wspace=0.4, hspace=0.4)\n",
        "\n",
        "# Show the plot\n",
        "plt.show()\n"
      ],
      "metadata": {
        "colab": {
          "base_uri": "https://localhost:8080/",
          "height": 1000
        },
        "id": "ykCTN8zVPXUA",
        "outputId": "099164a2-f64d-4cd3-83fb-be6882fd9a26"
      },
      "execution_count": 28,
      "outputs": [
        {
          "output_type": "stream",
          "name": "stderr",
          "text": [
            "<ipython-input-28-30aa48cc5b19>:7: MatplotlibDeprecationWarning: The seaborn styles shipped by Matplotlib are deprecated since 3.6, as they no longer correspond to the styles shipped by seaborn. However, they will remain available as 'seaborn-v0_8-<style>'. Alternatively, directly use the seaborn API instead.\n",
            "  plt.style.use('seaborn')\n"
          ]
        },
        {
          "output_type": "display_data",
          "data": {
            "text/plain": [
              "<Figure size 2000x1200 with 9 Axes>"
            ],
            "image/png": "[encoded data removed]"
          },
          "metadata": {}
        }
      ]
    },
    {
      "cell_type": "code",
      "source": [
        "### Overall Improvement"
      ],
      "metadata": {
        "id": "mwFcNtMQXBrS"
      },
      "execution_count": 29,
      "outputs": []
    },
    {
      "cell_type": "code",
      "source": [
        "import matplotlib.pyplot as plt\n",
        "\n",
        "# Count the occurrences of each improvement category\n",
        "improvement_counts = df_improvement['Overall Improvement'].value_counts()\n",
        "\n",
        "# Create a bar plot\n",
        "plt.figure(figsize=(6, 4))\n",
        "improvement_counts.plot(kind='bar')\n",
        "plt.xlabel('Improvement Category')\n",
        "plt.ylabel('Count')\n",
        "plt.title('Overall Improvement')\n",
        "plt.xticks(rotation=0)\n",
        "plt.show()"
      ],
      "metadata": {
        "id": "UW9POScBV08N",
        "colab": {
          "base_uri": "https://localhost:8080/",
          "height": 408
        },
        "outputId": "8e98e860-a16a-4967-a52f-5421bb0bec1f"
      },
      "execution_count": 30,
      "outputs": [
        {
          "output_type": "display_data",
          "data": {
            "text/plain": [
              "<Figure size 600x400 with 1 Axes>"
            ],
            "image/png": "[encoded data removed]"
          },
          "metadata": {}
        }
      ]
    },
    {
      "cell_type": "code",
      "source": [
        "improvement_counts"
      ],
      "metadata": {
        "colab": {
          "base_uri": "https://localhost:8080/"
        },
        "id": "PhTF9a8MRH2H",
        "outputId": "e2f40214-c366-49db-f09f-7f9782a37c65"
      },
      "execution_count": 31,
      "outputs": [
        {
          "output_type": "execute_result",
          "data": {
            "text/plain": [
              "Improved     16\n",
              "Unchanged    16\n",
              "Lowered       3\n",
              "Name: Overall Improvement, dtype: int64"
            ]
          },
          "metadata": {},
          "execution_count": 31
        }
      ]
    },
    {
      "cell_type": "markdown",
      "source": [
        "# Pre-Game and Post-Game Means"
      ],
      "metadata": {
        "id": "-1jAolL2ZFmI"
      }
    },
    {
      "cell_type": "markdown",
      "source": [
        "Get difference of pre-game and post-game responses for each concept."
      ],
      "metadata": {
        "id": "5NaKx4mrbOXQ"
      }
    },
    {
      "cell_type": "code",
      "source": [
        "email_intersection = list(set(df_pregame['Email']) & set(df_postgame['Email']))\n",
        "\n",
        "len(email_intersection)"
      ],
      "metadata": {
        "colab": {
          "base_uri": "https://localhost:8080/"
        },
        "id": "bTyIrineTxJo",
        "outputId": "ceb8b27d-8416-4cba-f49a-59aaca7d07f9"
      },
      "execution_count": 32,
      "outputs": [
        {
          "output_type": "execute_result",
          "data": {
            "text/plain": [
              "35"
            ]
          },
          "metadata": {},
          "execution_count": 32
        }
      ]
    },
    {
      "cell_type": "code",
      "source": [
        "# Step 2: Filter df_pregame based on email intersection\n",
        "df_pregame = df_pregame[df_pregame['Email'].isin(email_intersection)]\n",
        "\n",
        "# Step 3: Filter df_postgame based on email intersection\n",
        "df_postgame = df_postgame[df_postgame['Email'].isin(email_intersection)]"
      ],
      "metadata": {
        "id": "4ekBoKEIUKz-"
      },
      "execution_count": 33,
      "outputs": []
    },
    {
      "cell_type": "code",
      "source": [
        "df_pregame.shape"
      ],
      "metadata": {
        "colab": {
          "base_uri": "https://localhost:8080/"
        },
        "id": "1-8UQzE0U1oi",
        "outputId": "f39413cd-4510-412b-99a0-d074057267e8"
      },
      "execution_count": 34,
      "outputs": [
        {
          "output_type": "execute_result",
          "data": {
            "text/plain": [
              "(35, 20)"
            ]
          },
          "metadata": {},
          "execution_count": 34
        }
      ]
    },
    {
      "cell_type": "code",
      "source": [
        "df_postgame.shape"
      ],
      "metadata": {
        "colab": {
          "base_uri": "https://localhost:8080/"
        },
        "id": "JOwe_JQcU33q",
        "outputId": "bff8626f-a5b7-43b5-bb08-49335b379f7a"
      },
      "execution_count": 35,
      "outputs": [
        {
          "output_type": "execute_result",
          "data": {
            "text/plain": [
              "(35, 14)"
            ]
          },
          "metadata": {},
          "execution_count": 35
        }
      ]
    },
    {
      "cell_type": "code",
      "source": [
        "pre_game_means = []\n",
        "post_game_means = []\n",
        "\n",
        "pregame_std = []\n",
        "postgame_std = []\n",
        "\n",
        "difference_of_means = []"
      ],
      "metadata": {
        "id": "g6cnBYE70Kbx"
      },
      "execution_count": 36,
      "outputs": []
    },
    {
      "cell_type": "markdown",
      "source": [
        "### App Permission"
      ],
      "metadata": {
        "id": "JYFpMCJMb19R"
      }
    },
    {
      "cell_type": "code",
      "source": [
        "# app permission = app_perm\n",
        "\n",
        "# Get results from both questionnaires\n",
        "app_perm_pregame = df_pregame['App Permission'].astype(int)\n",
        "app_perm_postgame = df_postgame['App Permission'].astype(int)\n",
        "\n",
        "# Means of each questionnaire\n",
        "app_perm_pregame_mean = app_perm_pregame.mean()\n",
        "app_perm_postgame_mean = app_perm_postgame.mean()\n",
        "\n",
        "# Means\n",
        "pre_game_means.append(app_perm_pregame_mean)\n",
        "post_game_means.append(app_perm_postgame_mean)\n",
        "\n",
        "# Standard Deviation\n",
        "pregame_std.append(app_perm_pregame.std())\n",
        "postgame_std.append(app_perm_postgame.std())\n",
        "\n",
        "# Subtract means\n",
        "app_perm_mean = app_perm_postgame.mean() - app_perm_pregame.mean()\n",
        "difference_of_means.append(app_perm_mean)\n",
        "\n",
        "print(\"Average Scores on App Permissions from Pre-Game Questionnaire: {}\".format(app_perm_pregame_mean))\n",
        "print(\"Average Scores on App Permissions from Post-Game Questionnaire: {}\".format(app_perm_postgame_mean))\n",
        "print(\"Difference of Averages on App Permissions: {}\".format(app_perm_mean))"
      ],
      "metadata": {
        "id": "7AZxnoVUb1p-",
        "colab": {
          "base_uri": "https://localhost:8080/"
        },
        "outputId": "abc370c0-4da3-4887-9c06-47c055ce780b"
      },
      "execution_count": 37,
      "outputs": [
        {
          "output_type": "stream",
          "name": "stdout",
          "text": [
            "Average Scores on App Permissions from Pre-Game Questionnaire: 4.457142857142857\n",
            "Average Scores on App Permissions from Post-Game Questionnaire: 4.857142857142857\n",
            "Difference of Averages on App Permissions: 0.39999999999999947\n"
          ]
        }
      ]
    },
    {
      "cell_type": "markdown",
      "source": [
        "### Username Selection"
      ],
      "metadata": {
        "id": "Rhx4H5U9zVG1"
      }
    },
    {
      "cell_type": "code",
      "source": [
        "# Get results from both questionnaires\n",
        "username_pregame = df_pregame['Username Selection'].astype(int)\n",
        "username_postgame = df_postgame['Username Selection'].astype(int)\n",
        "\n",
        "# Means of each questionnaire\n",
        "username_pregame_mean = username_pregame.mean()\n",
        "username_postgame_mean = username_postgame.mean()\n",
        "\n",
        "pre_game_means.append(username_pregame_mean)\n",
        "post_game_means.append(username_postgame_mean)\n",
        "\n",
        "pregame_std.append(username_pregame.std())\n",
        "postgame_std.append(username_postgame.std())\n",
        "\n",
        "# Subtract means\n",
        "username_mean = username_postgame.mean() - username_pregame.mean()\n",
        "difference_of_means.append(username_mean)\n",
        "\n",
        "print(\"Average Scores on Username Selection from Pre-Game Questionnaire: {}\".format(username_pregame_mean))\n",
        "print(\"Average Scores on Username Selection from Post-Game Questionnaire: {}\".format(username_postgame_mean))\n",
        "print(\"Difference of Averages on Username Selection: {}\".format(username_mean))"
      ],
      "metadata": {
        "id": "5q3FKEOWzuS_",
        "colab": {
          "base_uri": "https://localhost:8080/"
        },
        "outputId": "f5e2a1c3-088a-4d14-e247-76976eac11d3"
      },
      "execution_count": 38,
      "outputs": [
        {
          "output_type": "stream",
          "name": "stdout",
          "text": [
            "Average Scores on Username Selection from Pre-Game Questionnaire: 3.4285714285714284\n",
            "Average Scores on Username Selection from Post-Game Questionnaire: 4.4\n",
            "Difference of Averages on Username Selection: 0.971428571428572\n"
          ]
        }
      ]
    },
    {
      "cell_type": "markdown",
      "source": [
        "### Photo Selection"
      ],
      "metadata": {
        "id": "cvGiw9RB0oYC"
      }
    },
    {
      "cell_type": "code",
      "source": [
        "# Get results from both questionnaires\n",
        "photo_pregame = df_pregame['Photo Selection'].astype(int)\n",
        "photo_postgame = df_postgame['Photo Selection'].astype(int)\n",
        "\n",
        "# Means of each questionnaire\n",
        "photo_pregame_mean = photo_pregame.mean()\n",
        "photo_postgame_mean = photo_postgame.mean()\n",
        "\n",
        "pre_game_means.append(photo_pregame_mean)\n",
        "post_game_means.append(photo_postgame_mean)\n",
        "\n",
        "pregame_std.append(photo_pregame.std())\n",
        "postgame_std.append(photo_postgame.std())\n",
        "\n",
        "# Subtract means\n",
        "photo_mean = photo_postgame.mean() - photo_pregame.mean()\n",
        "difference_of_means.append(photo_mean)\n",
        "\n",
        "print(\"Average Scores on Photo Selection from Pre-Game Questionnaire: {}\".format(photo_pregame_mean))\n",
        "print(\"Average Scores on Photo Selection from Post-Game Questionnaire: {}\".format(photo_postgame_mean))\n",
        "print(\"Difference of Averages on Photo Selection: {}\".format(photo_mean))"
      ],
      "metadata": {
        "id": "THqXjFvz0n3N",
        "colab": {
          "base_uri": "https://localhost:8080/"
        },
        "outputId": "13164da6-3778-4091-dd29-edaff0c5231f"
      },
      "execution_count": 39,
      "outputs": [
        {
          "output_type": "stream",
          "name": "stdout",
          "text": [
            "Average Scores on Photo Selection from Pre-Game Questionnaire: 4.171428571428572\n",
            "Average Scores on Photo Selection from Post-Game Questionnaire: 4.571428571428571\n",
            "Difference of Averages on Photo Selection: 0.39999999999999947\n"
          ]
        }
      ]
    },
    {
      "cell_type": "markdown",
      "source": [
        "### Caption Selection"
      ],
      "metadata": {
        "id": "7wnenTUl0zoG"
      }
    },
    {
      "cell_type": "code",
      "source": [
        "# Get results from both questionnaires\n",
        "caption_pregame = df_pregame['Caption Selection'].astype(int)\n",
        "caption_postgame = df_postgame['Caption Selection'].astype(int)\n",
        "\n",
        "# Means of each questionnaire\n",
        "caption_pregame_mean = caption_pregame.mean()\n",
        "caption_postgame_mean = caption_postgame.mean()\n",
        "\n",
        "pre_game_means.append(caption_pregame_mean)\n",
        "post_game_means.append(caption_postgame_mean)\n",
        "\n",
        "pregame_std.append(caption_pregame.std())\n",
        "postgame_std.append(caption_postgame.std())\n",
        "\n",
        "# Subtract means\n",
        "caption_mean = caption_postgame.mean() - caption_pregame.mean()\n",
        "difference_of_means.append(caption_mean)\n",
        "\n",
        "print(\"Average Scores on Caption Selection from Pre-Game Questionnaire: {}\".format(caption_pregame_mean))\n",
        "print(\"Average Scores on Caption Selection from Post-Game Questionnaire: {}\".format(caption_postgame_mean))\n",
        "print(\"Difference of Averages on Caption Selection: {}\".format(caption_mean))"
      ],
      "metadata": {
        "id": "LU2krMrp002C",
        "colab": {
          "base_uri": "https://localhost:8080/"
        },
        "outputId": "adde0718-1f14-49d2-c495-8dd134dcf9fb"
      },
      "execution_count": 40,
      "outputs": [
        {
          "output_type": "stream",
          "name": "stdout",
          "text": [
            "Average Scores on Caption Selection from Pre-Game Questionnaire: 3.3142857142857145\n",
            "Average Scores on Caption Selection from Post-Game Questionnaire: 4.514285714285714\n",
            "Difference of Averages on Caption Selection: 1.1999999999999997\n"
          ]
        }
      ]
    },
    {
      "cell_type": "markdown",
      "source": [
        "### Location Data"
      ],
      "metadata": {
        "id": "0tf8ocum1Djg"
      }
    },
    {
      "cell_type": "code",
      "source": [
        "# Get results from both questionnaires\n",
        "location_data_pregame = df_pregame['Location Data'].astype(int)\n",
        "location_data_postgame = df_postgame['Location Data'].astype(int)\n",
        "\n",
        "# Means of each questionnaire\n",
        "location_data_pregame_mean = location_data_pregame.mean()\n",
        "location_data_postgame_mean = location_data_postgame.mean()\n",
        "\n",
        "pre_game_means.append(location_data_pregame_mean)\n",
        "post_game_means.append(location_data_postgame_mean)\n",
        "\n",
        "pregame_std.append(location_data_pregame.std())\n",
        "postgame_std.append(location_data_postgame.std())\n",
        "\n",
        "# Subtract means\n",
        "location_data_mean = location_data_postgame.mean() - location_data_pregame.mean()\n",
        "difference_of_means.append(location_data_mean)\n",
        "\n",
        "print(\"Average Scores on Location Data from Pre-Game Questionnaire: {}\".format(location_data_pregame_mean))\n",
        "print(\"Average Scores on Location Data from Post-Game Questionnaire: {}\".format(location_data_postgame_mean))\n",
        "print(\"Difference of Averages on Location Data: {}\".format(location_data_mean))"
      ],
      "metadata": {
        "id": "T3V4h8mg1DDD",
        "colab": {
          "base_uri": "https://localhost:8080/"
        },
        "outputId": "58cc9479-9cc4-4b62-d123-9f5e734fd6b1"
      },
      "execution_count": 41,
      "outputs": [
        {
          "output_type": "stream",
          "name": "stdout",
          "text": [
            "Average Scores on Location Data from Pre-Game Questionnaire: 4.571428571428571\n",
            "Average Scores on Location Data from Post-Game Questionnaire: 4.685714285714286\n",
            "Difference of Averages on Location Data: 0.11428571428571477\n"
          ]
        }
      ]
    },
    {
      "cell_type": "markdown",
      "source": [
        "### Post Visibility"
      ],
      "metadata": {
        "id": "hbN-wOy61RU0"
      }
    },
    {
      "cell_type": "code",
      "source": [
        "# Get results from both questionnaires\n",
        "post_visibility_pregame = df_pregame['Post Visibility'].astype(int)\n",
        "post_visibility_postgame = df_postgame['Post Visibility'].astype(int)\n",
        "\n",
        "# Means of each questionnaire\n",
        "post_visibility_pregame_mean = post_visibility_pregame.mean()\n",
        "post_visibility_postgame_mean = post_visibility_postgame.mean()\n",
        "\n",
        "pre_game_means.append(post_visibility_pregame_mean)\n",
        "post_game_means.append(post_visibility_postgame_mean)\n",
        "\n",
        "pregame_std.append(post_visibility_pregame.std())\n",
        "postgame_std.append(post_visibility_postgame.std())\n",
        "\n",
        "# Subtract means\n",
        "post_visibility_mean = post_visibility_postgame.mean() - post_visibility_pregame.mean()\n",
        "difference_of_means.append(post_visibility_mean)\n",
        "\n",
        "print(\"Average Scores on Post Visibility from Pre-Game Questionnaire: {}\".format(post_visibility_pregame_mean))\n",
        "print(\"Average Scores on Post Visibility from Post-Game Questionnaire: {}\".format(post_visibility_postgame_mean))\n",
        "print(\"Difference of Averages on Post Visibility: {}\".format(post_visibility_mean))"
      ],
      "metadata": {
        "id": "BgTeK-sq1RL5",
        "colab": {
          "base_uri": "https://localhost:8080/"
        },
        "outputId": "74dc81ea-2538-4524-bf0d-cb703272d00b"
      },
      "execution_count": 42,
      "outputs": [
        {
          "output_type": "stream",
          "name": "stdout",
          "text": [
            "Average Scores on Post Visibility from Pre-Game Questionnaire: 4.4\n",
            "Average Scores on Post Visibility from Post-Game Questionnaire: 4.514285714285714\n",
            "Difference of Averages on Post Visibility: 0.11428571428571388\n"
          ]
        }
      ]
    },
    {
      "cell_type": "markdown",
      "source": [
        "### Removal of Tags"
      ],
      "metadata": {
        "id": "KBDrtIit2lRw"
      }
    },
    {
      "cell_type": "code",
      "source": [
        "# Get results from both questionnaires\n",
        "tag_removal_pregame = df_pregame['Removal of Tags'].astype(int)\n",
        "tag_removal_postgame = df_postgame['Removal of Tags'].astype(int)\n",
        "\n",
        "# Means of each questionnaire\n",
        "tag_removal_pregame_mean = tag_removal_pregame.mean()\n",
        "tag_removal_postgame_mean = tag_removal_postgame.mean()\n",
        "\n",
        "pre_game_means.append(tag_removal_pregame_mean)\n",
        "post_game_means.append(tag_removal_postgame_mean)\n",
        "\n",
        "pregame_std.append(tag_removal_pregame.std())\n",
        "postgame_std.append(tag_removal_postgame.std())\n",
        "\n",
        "# Subtract means\n",
        "tag_removal_mean = tag_removal_postgame.mean() - tag_removal_pregame.mean()\n",
        "difference_of_means.append(tag_removal_mean)\n",
        "\n",
        "print(\"Average Scores on Removal of Tags from Pre-Game Questionnaire: {}\".format(tag_removal_pregame_mean))\n",
        "print(\"Average Scores on Removal of Tags from Post-Game Questionnaire: {}\".format(tag_removal_postgame_mean))\n",
        "print(\"Difference of Averages on Removal of Tags: {}\".format(tag_removal_mean))"
      ],
      "metadata": {
        "id": "oPn91dnl2oQV",
        "colab": {
          "base_uri": "https://localhost:8080/"
        },
        "outputId": "ed562a63-1f8b-4d28-c3ca-5b562f546289"
      },
      "execution_count": 43,
      "outputs": [
        {
          "output_type": "stream",
          "name": "stdout",
          "text": [
            "Average Scores on Removal of Tags from Pre-Game Questionnaire: 3.8285714285714287\n",
            "Average Scores on Removal of Tags from Post-Game Questionnaire: 4.457142857142857\n",
            "Difference of Averages on Removal of Tags: 0.6285714285714286\n"
          ]
        }
      ]
    },
    {
      "cell_type": "markdown",
      "source": [
        "### Persuasive Features"
      ],
      "metadata": {
        "id": "nIUcKiO42xc1"
      }
    },
    {
      "cell_type": "code",
      "source": [
        "# Get results from both questionnaires\n",
        "persuasive_features_pregame = df_pregame['Persuasive Features'].astype(int)\n",
        "persuasive_features_postgame = df_postgame['Persuasive Features'].astype(int)\n",
        "\n",
        "# Means of each questionnaire\n",
        "persuasive_features_pregame_mean = persuasive_features_pregame.mean()\n",
        "persuasive_features_postgame_mean = persuasive_features_postgame.mean()\n",
        "\n",
        "pre_game_means.append(persuasive_features_pregame_mean)\n",
        "post_game_means.append(persuasive_features_postgame_mean)\n",
        "\n",
        "pregame_std.append(persuasive_features_pregame.std())\n",
        "postgame_std.append(persuasive_features_postgame.std())\n",
        "\n",
        "# Subtract means\n",
        "persuasive_features_mean = persuasive_features_postgame.mean() - persuasive_features_pregame.mean()\n",
        "difference_of_means.append(persuasive_features_mean)\n",
        "\n",
        "print(\"Average Scores on Persuasive Features from Pre-Game Questionnaire: {}\".format(persuasive_features_pregame_mean))\n",
        "print(\"Average Scores on Persuasive Features from Post-Game Questionnaire: {}\".format(persuasive_features_postgame_mean))\n",
        "print(\"Difference of Averages on Persuasive Features: {}\".format(persuasive_features_mean))"
      ],
      "metadata": {
        "id": "Xl7Oy18x2zPb",
        "colab": {
          "base_uri": "https://localhost:8080/"
        },
        "outputId": "4725814d-fcf1-44f4-efec-06d80fa17740"
      },
      "execution_count": 44,
      "outputs": [
        {
          "output_type": "stream",
          "name": "stdout",
          "text": [
            "Average Scores on Persuasive Features from Pre-Game Questionnaire: 3.1142857142857143\n",
            "Average Scores on Persuasive Features from Post-Game Questionnaire: 3.6\n",
            "Difference of Averages on Persuasive Features: 0.48571428571428577\n"
          ]
        }
      ]
    },
    {
      "cell_type": "markdown",
      "source": [
        "### Tagging Behavior"
      ],
      "metadata": {
        "id": "d7RERou53Km0"
      }
    },
    {
      "cell_type": "code",
      "source": [
        "# Get results from both questionnaires\n",
        "tagging_behavior_pregame = df_pregame['Tagging Behavior'].astype(int)\n",
        "tagging_behavior_postgame = df_postgame['Tagging Behavior'].astype(int)\n",
        "\n",
        "# Means of each questionnaire\n",
        "tagging_behavior_pregame_mean = tagging_behavior_pregame.mean()\n",
        "tagging_behavior_postgame_mean = tagging_behavior_postgame.mean()\n",
        "\n",
        "pre_game_means.append(tagging_behavior_pregame_mean)\n",
        "post_game_means.append(tagging_behavior_postgame_mean)\n",
        "\n",
        "pregame_std.append(tagging_behavior_pregame.std())\n",
        "postgame_std.append(tagging_behavior_postgame.std())\n",
        "\n",
        "# Subtract means\n",
        "tagging_behavior_mean = tagging_behavior_postgame.mean() - tagging_behavior_pregame.mean()\n",
        "difference_of_means.append(tagging_behavior_mean)\n",
        "\n",
        "print(\"Average Scores on Tagging Behavior from Pre-Game Questionnaire: {}\".format(tagging_behavior_pregame_mean))\n",
        "print(\"Average Scores on Tagging Behavior from Post-Game Questionnaire: {}\".format(tagging_behavior_postgame_mean))\n",
        "print(\"Difference of Averages on Tagging Behavior: {}\".format(tagging_behavior_mean))"
      ],
      "metadata": {
        "id": "Bn97NvX83MJL",
        "colab": {
          "base_uri": "https://localhost:8080/"
        },
        "outputId": "647e528a-2ffa-4665-a2f7-8cf7155d55de"
      },
      "execution_count": 45,
      "outputs": [
        {
          "output_type": "stream",
          "name": "stdout",
          "text": [
            "Average Scores on Tagging Behavior from Pre-Game Questionnaire: 3.4\n",
            "Average Scores on Tagging Behavior from Post-Game Questionnaire: 4.2\n",
            "Difference of Averages on Tagging Behavior: 0.8000000000000003\n"
          ]
        }
      ]
    },
    {
      "cell_type": "markdown",
      "source": [
        "### Visualize Means"
      ],
      "metadata": {
        "id": "kk2bRS8u3gGO"
      }
    },
    {
      "cell_type": "code",
      "source": [
        "import matplotlib.pyplot as plt\n",
        "import seaborn as sns\n",
        "\n",
        "# Choose a style (optional)\n",
        "plt.style.use('seaborn')\n",
        "\n",
        "# Use a pleasing color palette\n",
        "palette = sns.color_palette('Set2', len(difference_of_means))\n",
        "\n",
        "# Create the bar plot using plt.bar()\n",
        "plt.bar(concepts, difference_of_means, color=palette)\n",
        "\n",
        "# Add labels and title\n",
        "plt.xlabel('Privacy Concepts')\n",
        "plt.ylabel('Difference of Means')\n",
        "plt.title('Differnece of Means for Each Concept')\n",
        "\n",
        "# Rotate x-axis labels for better visibility\n",
        "plt.xticks(rotation=45, ha='right')\n",
        "\n",
        "# Avoid label overlap\n",
        "plt.tight_layout()\n",
        "\n",
        "# Add grid\n",
        "plt.grid(True)\n",
        "\n",
        "# Adjust the figure layout\n",
        "plt.tight_layout()\n",
        "\n",
        "plt.show()\n"
      ],
      "metadata": {
        "id": "rwgZzmZu3ik_",
        "colab": {
          "base_uri": "https://localhost:8080/",
          "height": 613
        },
        "outputId": "4b7d05cd-ee0e-4811-b0dd-af9318b2ea6e"
      },
      "execution_count": 46,
      "outputs": [
        {
          "output_type": "stream",
          "name": "stderr",
          "text": [
            "<ipython-input-46-601a5036f76d>:5: MatplotlibDeprecationWarning: The seaborn styles shipped by Matplotlib are deprecated since 3.6, as they no longer correspond to the styles shipped by seaborn. However, they will remain available as 'seaborn-v0_8-<style>'. Alternatively, directly use the seaborn API instead.\n",
            "  plt.style.use('seaborn')\n"
          ]
        },
        {
          "output_type": "display_data",
          "data": {
            "text/plain": [
              "<Figure size 800x550 with 1 Axes>"
            ],
            "image/png": "[encoded data removed]"
          },
          "metadata": {}
        }
      ]
    },
    {
      "cell_type": "code",
      "source": [
        "# Set the width of the bars\n",
        "bar_width = 0.35\n",
        "\n",
        "# Set the position of the bars on the x-axis\n",
        "r1 = np.arange(len(pre_game_means))\n",
        "r2 = [x + bar_width for x in r1]\n",
        "\n",
        "# Create the bar plot\n",
        "plt.bar(r1, pre_game_means, color='blue', width=bar_width, edgecolor='black', label='Pre-game')\n",
        "plt.bar(r2, post_game_means, color='orange', width=bar_width, edgecolor='black', label='Post-game')\n",
        "\n",
        "# Add labels, title, and legend\n",
        "plt.xlabel('Concepts')\n",
        "plt.ylabel('Mean Scores')\n",
        "plt.title('Pre-game vs Post-game Mean Scores by Question')\n",
        "\n",
        "# Rotate x-axis labels by 45 degrees\n",
        "plt.xticks([r + bar_width / 2 for r in range(len(pre_game_means))], concepts, rotation=45, ha='right')\n",
        "\n",
        "plt.legend()\n",
        "\n",
        "# Adjust the figure layout to avoid label overlap\n",
        "plt.tight_layout()\n",
        "\n",
        "# Display the plot\n",
        "plt.show()\n"
      ],
      "metadata": {
        "id": "4NH52z45BUQI",
        "colab": {
          "base_uri": "https://localhost:8080/",
          "height": 557
        },
        "outputId": "617ea36e-9acf-4819-8c87-c4976b3038e3"
      },
      "execution_count": 47,
      "outputs": [
        {
          "output_type": "display_data",
          "data": {
            "text/plain": [
              "<Figure size 800x550 with 1 Axes>"
            ],
            "image/png": "[encoded data removed]"
          },
          "metadata": {}
        }
      ]
    },
    {
      "cell_type": "code",
      "source": [
        "for i in range(len(concepts)):\n",
        "    print(f\"{concepts[i]} & {round(pre_game_means[i], 4)} & {round(post_game_means[i], 4)} & {round(difference_of_means[i], 4)} \\\\\\\\ \\\\hline\")"
      ],
      "metadata": {
        "colab": {
          "base_uri": "https://localhost:8080/"
        },
        "id": "7yQTiy0KX5Si",
        "outputId": "d619f830-a9f8-4fc0-d1bb-05e6675fffba"
      },
      "execution_count": 48,
      "outputs": [
        {
          "output_type": "stream",
          "name": "stdout",
          "text": [
            "App Permission & 4.4571 & 4.8571 & 0.4 \\\\ \\hline\n",
            "Username Selection & 3.4286 & 4.4 & 0.9714 \\\\ \\hline\n",
            "Photo Selection & 4.1714 & 4.5714 & 0.4 \\\\ \\hline\n",
            "Caption Selection & 3.3143 & 4.5143 & 1.2 \\\\ \\hline\n",
            "Location Data & 4.5714 & 4.6857 & 0.1143 \\\\ \\hline\n",
            "Post Visibility & 4.4 & 4.5143 & 0.1143 \\\\ \\hline\n",
            "Removal of Tags & 3.8286 & 4.4571 & 0.6286 \\\\ \\hline\n",
            "Persuasive Features & 3.1143 & 3.6 & 0.4857 \\\\ \\hline\n",
            "Tagging Behavior & 3.4 & 4.2 & 0.8 \\\\ \\hline\n"
          ]
        }
      ]
    },
    {
      "cell_type": "code",
      "source": [
        "post_game_means"
      ],
      "metadata": {
        "colab": {
          "base_uri": "https://localhost:8080/"
        },
        "id": "0HYginYJYBsa",
        "outputId": "d68fc6e9-200d-40a9-d4d4-c6ecbe4c0424"
      },
      "execution_count": 49,
      "outputs": [
        {
          "output_type": "execute_result",
          "data": {
            "text/plain": [
              "[4.857142857142857,\n",
              " 4.4,\n",
              " 4.571428571428571,\n",
              " 4.514285714285714,\n",
              " 4.685714285714286,\n",
              " 4.514285714285714,\n",
              " 4.457142857142857,\n",
              " 3.6,\n",
              " 4.2]"
            ]
          },
          "metadata": {},
          "execution_count": 49
        }
      ]
    },
    {
      "cell_type": "markdown",
      "source": [
        "# Statistical Test"
      ],
      "metadata": {
        "id": "6cnaeL64H84S"
      }
    },
    {
      "cell_type": "markdown",
      "source": [
        "Perform One sample t-test for two correlated means"
      ],
      "metadata": {
        "id": "tarJM9ZAIG4F"
      }
    },
    {
      "cell_type": "markdown",
      "source": [
        "Null Hypothesis: The means of the two tests have no significant difference.\n",
        "Alternate Hypothesis: The means of the two tests have a significant difference."
      ],
      "metadata": {
        "id": "bNgLlM13SJZE"
      }
    },
    {
      "cell_type": "code",
      "source": [
        "from scipy import stats\n",
        "\n",
        "# Check for normality using Shapiro-Wilk test\n",
        "_, p_pre = stats.shapiro(pre_game_means)\n",
        "_, p_post = stats.shapiro(post_game_means)\n",
        "\n",
        "# Check if data is continuous\n",
        "is_continuous_pre = all(isinstance(x, (int, float)) for x in pre_game_means)\n",
        "is_continuous_post = all(isinstance(x, (int, float)) for x in post_game_means)\n",
        "\n",
        "# Print the results\n",
        "print(\"Pre-game Means:\")\n",
        "print(\"Is Normally Distributed:\", p_pre > 0.05)\n",
        "print(\"Is Continuous:\", is_continuous_pre)\n",
        "\n",
        "print(\"\\nPost-game Means:\")\n",
        "print(\"Is Normally Distributed:\", p_post > 0.05)\n",
        "print(\"Is Continuous:\", is_continuous_post)\n"
      ],
      "metadata": {
        "colab": {
          "base_uri": "https://localhost:8080/"
        },
        "id": "6ZS6ipJIvoNs",
        "outputId": "90162e67-80ae-478c-9c3f-8df1109a0096"
      },
      "execution_count": 50,
      "outputs": [
        {
          "output_type": "stream",
          "name": "stdout",
          "text": [
            "Pre-game Means:\n",
            "Is Normally Distributed: True\n",
            "Is Continuous: True\n",
            "\n",
            "Post-game Means:\n",
            "Is Normally Distributed: True\n",
            "Is Continuous: True\n"
          ]
        }
      ]
    },
    {
      "cell_type": "code",
      "source": [
        "# Perform one-sample t-test\n",
        "\n",
        "t_statistic, p_value = stats.ttest_rel(pre_game_means, post_game_means)\n",
        "\n",
        "# Print the results\n",
        "print(\"T-Statistic:\", t_statistic)\n",
        "print(\"P-Value:\", p_value)"
      ],
      "metadata": {
        "id": "Hv2yTzHXIc-B",
        "colab": {
          "base_uri": "https://localhost:8080/"
        },
        "outputId": "ebb1c2a7-4ded-4b3e-c2cb-54af6f7c6522"
      },
      "execution_count": 51,
      "outputs": [
        {
          "output_type": "stream",
          "name": "stdout",
          "text": [
            "T-Statistic: -4.6087205316313975\n",
            "P-Value: 0.0017355633470949611\n"
          ]
        }
      ]
    },
    {
      "cell_type": "code",
      "source": [
        "\n",
        "# Perform paired samples t-test\n",
        "t_statistic, p_value = stats.ttest_rel(pre_game_means, post_game_means)\n",
        "\n",
        "# Print the results\n",
        "print(\"T-Statistic:\", t_statistic)\n",
        "print(\"P-Value:\", p_value)"
      ],
      "metadata": {
        "id": "wXAT-n3ft_nD",
        "outputId": "6c645dd0-6f79-4ee0-8d1b-5552cd3244ee",
        "colab": {
          "base_uri": "https://localhost:8080/"
        }
      },
      "execution_count": 52,
      "outputs": [
        {
          "output_type": "stream",
          "name": "stdout",
          "text": [
            "T-Statistic: -4.6087205316313975\n",
            "P-Value: 0.0017355633470949611\n"
          ]
        }
      ]
    },
    {
      "cell_type": "markdown",
      "source": [
        "The P-Value of 0.00226 is less than the signifance level of 95%. This provides evidence to reject the Null Hypothesis. Therefore there is a significant difference between the means of the pre-game and post-game responses."
      ],
      "metadata": {
        "id": "9dIviPzES61d"
      }
    },
    {
      "cell_type": "markdown",
      "source": [
        "Whether the difference is an improvement or not can be based on the scoring summary performed earlier. The result from the scoring summary indicated that:\n",
        "\n",
        "\n",
        "*   46% Improved their score.\n",
        "*   46% Had the same score on both tests.\n",
        "*   6% Had their score lowered.\n",
        "\n",
        "From these results, the percentage of respondents that improved their scores is significantly greater than those that had a lower score. However there is no difference between the percentage that improved and those that retained the same score.\n",
        "\n"
      ],
      "metadata": {
        "id": "D_Wfsv1IXHH3"
      }
    },
    {
      "cell_type": "markdown",
      "source": [
        "# Tester Realizations"
      ],
      "metadata": {
        "id": "rFs_qa4hFQT3"
      }
    },
    {
      "cell_type": "markdown",
      "source": [
        "Topic Modeling on the realizations of users after playing the game."
      ],
      "metadata": {
        "id": "c8K-kjLkFUxZ"
      }
    },
    {
      "cell_type": "code",
      "source": [
        "df_realize = topic_modeling_lda(df = df_postgame, column_name = 'Do you have any realizations you would like to share regarding the possible risks on use of social media?', n_topics = 9, num_words = 15)\n",
        "\n",
        "df_realize"
      ],
      "metadata": {
        "id": "gV82BuRuFUAc",
        "colab": {
          "base_uri": "https://localhost:8080/"
        },
        "outputId": "76fce249-998b-40f3-cd0e-809f1e2dcf63"
      },
      "execution_count": 53,
      "outputs": [
        {
          "output_type": "execute_result",
          "data": {
            "text/plain": [
              "(                                            Keywords  Topic ID\n",
              " 0  data without wonder collected recorded knowled...         1\n",
              " 1  especially realized username choosing post soc...         2\n",
              " 2  would privacy featuresprompts using caption sa...         3\n",
              " 3  time photo choice post made game using informa...         4\n",
              " 4  reveal caption happening personal username muc...         5\n",
              " 5  risk aware make caption social medium shouldnt...         6\n",
              " 6  mindful realized fully correctly recorded stal...         7\n",
              " 7  keeping hehe get kind hard delay strat importa...         8\n",
              " 8  content also negatively breach permanence savi...         9,\n",
              " LatentDirichletAllocation(learning_method='online', learning_offset=50,\n",
              "                           n_components=9, n_jobs=1, random_state=42),\n",
              "              Timestamp  \\\n",
              " 0   6/28/2023 19:13:09   \n",
              " 1   6/28/2023 19:28:35   \n",
              " 2   6/28/2023 19:30:15   \n",
              " 3   6/28/2023 19:52:29   \n",
              " 4   6/28/2023 19:58:50   \n",
              " 5   6/28/2023 20:15:24   \n",
              " 6   6/28/2023 20:53:20   \n",
              " 7   6/28/2023 21:44:14   \n",
              " 8   6/28/2023 21:58:08   \n",
              " 9   6/28/2023 22:12:27   \n",
              " 10  6/28/2023 22:34:14   \n",
              " 12  6/28/2023 22:53:20   \n",
              " 13  6/28/2023 22:56:47   \n",
              " 14  6/28/2023 23:23:46   \n",
              " 15   6/29/2023 0:18:56   \n",
              " 17   6/29/2023 0:57:29   \n",
              " 18   6/29/2023 1:38:46   \n",
              " 19   6/29/2023 2:46:55   \n",
              " 21   6/29/2023 5:07:16   \n",
              " 22   6/29/2023 9:35:42   \n",
              " 23   6/29/2023 9:40:01   \n",
              " 24  6/29/2023 10:47:59   \n",
              " 26  6/29/2023 12:06:45   \n",
              " 27  6/29/2023 13:28:16   \n",
              " 28  6/29/2023 15:33:33   \n",
              " 29  6/29/2023 16:19:03   \n",
              " 30  6/29/2023 17:29:11   \n",
              " 33  6/29/2023 21:37:47   \n",
              " 35  6/29/2023 22:39:12   \n",
              " 36  6/29/2023 22:43:30   \n",
              " 38  6/30/2023 19:30:38   \n",
              " 39  6/30/2023 20:26:29   \n",
              " 40  6/30/2023 22:51:27   \n",
              " 41   7/1/2023 20:59:01   \n",
              " 43   7/3/2023 11:28:04   \n",
              " 11                 NaN   \n",
              " 16                 NaN   \n",
              " 20                 NaN   \n",
              " 25                 NaN   \n",
              " 31                 NaN   \n",
              " 32                 NaN   \n",
              " 34                 NaN   \n",
              " \n",
              "    In compliance with the Data Privacy Act of 2012 (RA10173) and its Implementing Rules and Regulations, I am allowing Julian Dycaico and Hans Olaño from the University of the Philippines - Diliman to store and use my data as part of their research study.   \\n\\nBy using the survey form you give us permission to collect/use your information for research purposes only.  \\\n",
              " 0                       Yes, I agree and give consent                                                                                                                                                                                                                                                                                                                               \n",
              " 1                       Yes, I agree and give consent                                                                                                                                                                                                                                                                                                                               \n",
              " 2                       Yes, I agree and give consent                                                                                                                                                                                                                                                                                                                               \n",
              " 3                       Yes, I agree and give consent                                                                                                                                                                                                                                                                                                                               \n",
              " 4                       Yes, I agree and give consent                                                                                                                                                                                                                                                                                                                               \n",
              " 5                       Yes, I agree and give consent                                                                                                                                                                                                                                                                                                                               \n",
              " 6                       Yes, I agree and give consent                                                                                                                                                                                                                                                                                                                               \n",
              " 7                       Yes, I agree and give consent                                                                                                                                                                                                                                                                                                                               \n",
              " 8                       Yes, I agree and give consent                                                                                                                                                                                                                                                                                                                               \n",
              " 9                       Yes, I agree and give consent                                                                                                                                                                                                                                                                                                                               \n",
              " 10                      Yes, I agree and give consent                                                                                                                                                                                                                                                                                                                               \n",
              " 12                      Yes, I agree and give consent                                                                                                                                                                                                                                                                                                                               \n",
              " 13                      Yes, I agree and give consent                                                                                                                                                                                                                                                                                                                               \n",
              " 14                      Yes, I agree and give consent                                                                                                                                                                                                                                                                                                                               \n",
              " 15                      Yes, I agree and give consent                                                                                                                                                                                                                                                                                                                               \n",
              " 17                      Yes, I agree and give consent                                                                                                                                                                                                                                                                                                                               \n",
              " 18                      Yes, I agree and give consent                                                                                                                                                                                                                                                                                                                               \n",
              " 19                      Yes, I agree and give consent                                                                                                                                                                                                                                                                                                                               \n",
              " 21                      Yes, I agree and give consent                                                                                                                                                                                                                                                                                                                               \n",
              " 22                      Yes, I agree and give consent                                                                                                                                                                                                                                                                                                                               \n",
              " 23                      Yes, I agree and give consent                                                                                                                                                                                                                                                                                                                               \n",
              " 24                      Yes, I agree and give consent                                                                                                                                                                                                                                                                                                                               \n",
              " 26                      Yes, I agree and give consent                                                                                                                                                                                                                                                                                                                               \n",
              " 27                      Yes, I agree and give consent                                                                                                                                                                                                                                                                                                                               \n",
              " 28                      Yes, I agree and give consent                                                                                                                                                                                                                                                                                                                               \n",
              " 29                      Yes, I agree and give consent                                                                                                                                                                                                                                                                                                                               \n",
              " 30                      Yes, I agree and give consent                                                                                                                                                                                                                                                                                                                               \n",
              " 33                      Yes, I agree and give consent                                                                                                                                                                                                                                                                                                                               \n",
              " 35                      Yes, I agree and give consent                                                                                                                                                                                                                                                                                                                               \n",
              " 36                      Yes, I agree and give consent                                                                                                                                                                                                                                                                                                                               \n",
              " 38                      Yes, I agree and give consent                                                                                                                                                                                                                                                                                                                               \n",
              " 39                      Yes, I agree and give consent                                                                                                                                                                                                                                                                                                                               \n",
              " 40                      Yes, I agree and give consent                                                                                                                                                                                                                                                                                                                               \n",
              " 41                      Yes, I agree and give consent                                                                                                                                                                                                                                                                                                                               \n",
              " 43                      Yes, I agree and give consent                                                                                                                                                                                                                                                                                                                               \n",
              " 11                                                NaN                                                                                                                                                                                                                                                                                                                               \n",
              " 16                                                NaN                                                                                                                                                                                                                                                                                                                               \n",
              " 20                                                NaN                                                                                                                                                                                                                                                                                                                               \n",
              " 25                                                NaN                                                                                                                                                                                                                                                                                                                               \n",
              " 31                                                NaN                                                                                                                                                                                                                                                                                                                               \n",
              " 32                                                NaN                                                                                                                                                                                                                                                                                                                               \n",
              " 34                                                NaN                                                                                                                                                                                                                                                                                                                               \n",
              " \n",
              "                            Name                               Email  \\\n",
              " 0                    Russel Ang             russel_john01@yahoo.com   \n",
              " 1                                            a.l.a.tecson@gmail.com   \n",
              " 2                   Rianna Cruz                   rscruz7@up.edu.ph   \n",
              " 3     Hans Gabriel H. De Castro                hhdecastro@up.edu.ph   \n",
              " 4                 Yuan Dumandan           yuan_dumandan@dlsu.edu.ph   \n",
              " 5                        Karlos              karlostuazon@gmail.com   \n",
              " 6                                                jsdoros1@up.edu.ph   \n",
              " 7                                                cllopez3@up.edu.ph   \n",
              " 8                  Gillian Cruz            gilliancruz801@gmail.com   \n",
              " 9   Christian Emmanuel Pastrana             mceapastrana@tip.edu.ph   \n",
              " 10                                           jdmanzanares@up.edu.ph   \n",
              " 12                          Tim                      tcdy@up.edu.ph   \n",
              " 13                                              caaquino4@up.edu.ph   \n",
              " 14                                                jsdoros@up.edu.ph   \n",
              " 15                  Dinah Angot                   dnangot@up.edu.ph   \n",
              " 17    Justin Angelo B. Siquioco                jbsiquioco@up.edu.ph   \n",
              " 18                       Tomoe               tomoefajardo@gmail.com   \n",
              " 19              Gab Constantino   gabrielle.constantino11@gmail.com   \n",
              " 21                               AnimalPhysio2ndSem201819@gmail.com   \n",
              " 22                  Mikael Agus                agusmikael@gmail.com   \n",
              " 23                                          cjpmanongsong@gmail.com   \n",
              " 24                Liana Apostol                ldapostol1@up.edu.ph   \n",
              " 26                                            jareddantis@gmail.com   \n",
              " 27                        Czari           czarina.dycaico@gmail.com   \n",
              " 28                    Pentacles              jarredluzada@gmail.com   \n",
              " 29                                             hssanchez1@up.edu.ph   \n",
              " 30                        Juris                 jh.adorna@gmail.com   \n",
              " 33                                           nuanpatricia@gmail.com   \n",
              " 35                                     johnivanloristo769@gmail.com   \n",
              " 36                 Camille Rule             rulecamille23@gmail.com   \n",
              " 38                                        michaelmorco888@gmail.com   \n",
              " 39                  bryce morco                   mbmorco@gmail.com   \n",
              " 40                         Ivan             roelivan.cruz@gmail.com   \n",
              " 41                          Ryo                  rsnakano@up.edu.ph   \n",
              " 43                                        kristine_bqn@yahoo.com.ph   \n",
              " 11                          NaN                                 NaN   \n",
              " 16                          NaN                                 NaN   \n",
              " 20                          NaN                                 NaN   \n",
              " 25                          NaN                                 NaN   \n",
              " 31                          NaN                                 NaN   \n",
              " 32                          NaN                                 NaN   \n",
              " 34                          NaN                                 NaN   \n",
              " \n",
              "    App Permission Username Selection Photo Selection Caption Selection  \\\n",
              " 0               5                  4               3                 3   \n",
              " 1               4                  4               4                 4   \n",
              " 2               5                  4               5                 5   \n",
              " 3               5                  5               5                 5   \n",
              " 4               4                  4               4                 4   \n",
              " 5               5                  5               5                 5   \n",
              " 6               5                  5               5                 5   \n",
              " 7               5                  5               4                 5   \n",
              " 8               4                  3               2                 1   \n",
              " 9               5                  5               5                 5   \n",
              " 10              5                  3               5                 5   \n",
              " 12              5                  5               5                 5   \n",
              " 13              4                  4               4                 4   \n",
              " 14              4                  4               5                 5   \n",
              " 15              5                  5               5                 5   \n",
              " 17              5                  5               5                 4   \n",
              " 18              5                  3               3                 3   \n",
              " 19              5                  5               5                 5   \n",
              " 21              5                  5               5                 5   \n",
              " 22              5                  5               5                 5   \n",
              " 23              5                  5               5                 5   \n",
              " 24              5                  5               5                 5   \n",
              " 26              5                  5               5                 5   \n",
              " 27              5                  0               1                 2   \n",
              " 28              5                  5               5                 5   \n",
              " 29              5                  3               5                 4   \n",
              " 30              5                  5               5                 5   \n",
              " 33              5                  5               5                 5   \n",
              " 35              5                  5               5                 5   \n",
              " 36              5                  5               5                 5   \n",
              " 38              5                  5               5                 5   \n",
              " 39              5                  4               5                 4   \n",
              " 40              5                  5               5                 5   \n",
              " 41              5                  4               5                 5   \n",
              " 43              5                  5               5                 5   \n",
              " 11            NaN                NaN             NaN               NaN   \n",
              " 16            NaN                NaN             NaN               NaN   \n",
              " 20            NaN                NaN             NaN               NaN   \n",
              " 25            NaN                NaN             NaN               NaN   \n",
              " 31            NaN                NaN             NaN               NaN   \n",
              " 32            NaN                NaN             NaN               NaN   \n",
              " 34            NaN                NaN             NaN               NaN   \n",
              " \n",
              "    Location Data Post Visibility  ...  \\\n",
              " 0              5               4  ...   \n",
              " 1              4               4  ...   \n",
              " 2              5               5  ...   \n",
              " 3              5               5  ...   \n",
              " 4              4               4  ...   \n",
              " 5              5               5  ...   \n",
              " 6              5               5  ...   \n",
              " 7              5               5  ...   \n",
              " 8              4               2  ...   \n",
              " 9              5               5  ...   \n",
              " 10             4               5  ...   \n",
              " 12             5               5  ...   \n",
              " 13             4               4  ...   \n",
              " 14             5               5  ...   \n",
              " 15             5               5  ...   \n",
              " 17             3               1  ...   \n",
              " 18             5               5  ...   \n",
              " 19             5               5  ...   \n",
              " 21             5               5  ...   \n",
              " 22             5               5  ...   \n",
              " 23             5               5  ...   \n",
              " 24             5               5  ...   \n",
              " 26             5               5  ...   \n",
              " 27             1               1  ...   \n",
              " 28             5               5  ...   \n",
              " 29             5               3  ...   \n",
              " 30             5               5  ...   \n",
              " 33             5               5  ...   \n",
              " 35             5               5  ...   \n",
              " 36             5               5  ...   \n",
              " 38             5               5  ...   \n",
              " 39             5               5  ...   \n",
              " 40             5               5  ...   \n",
              " 41             5               5  ...   \n",
              " 43             5               5  ...   \n",
              " 11           NaN             NaN  ...   \n",
              " 16           NaN             NaN  ...   \n",
              " 20           NaN             NaN  ...   \n",
              " 25           NaN             NaN  ...   \n",
              " 31           NaN             NaN  ...   \n",
              " 32           NaN             NaN  ...   \n",
              " 34           NaN             NaN  ...   \n",
              " \n",
              "    Do you have any realizations you would like to share regarding the possible risks on use of social media?  \\\n",
              " 0        i did not know how much a caption can reveal                                                          \n",
              " 1   Im aware of the risks, but I dont necessarily ...                                                          \n",
              " 2                                                                                                              \n",
              " 3   Now I know that it's better to make my photo c...                                                          \n",
              " 4   I did not realize that tagging correctly is im...                                                          \n",
              " 5   The choices I made in the game were the typica...                                                          \n",
              " 6                                                                                                              \n",
              " 7   It's kind of hard to balance keeping your soci...                                                          \n",
              " 8   Captions and username should not reveal inform...                                                          \n",
              " 9   when a stalker basically monitors you from tim...                                                          \n",
              " 10  Breach of privacy can lead to some form of cyb...                                                          \n",
              " 12                                                                                                             \n",
              " 13                                                                                                             \n",
              " 14                                                                                                             \n",
              " 15  I should be more careful with the caption desc...                                                          \n",
              " 17                                                                                                             \n",
              " 18                                                                                                             \n",
              " 19                                                                                                             \n",
              " 21                                                                                                             \n",
              " 22  Having social media comes with certain risks, ...                                                          \n",
              " 23  The persuasive features/prompts were really tr...                                                          \n",
              " 24                                                                                                             \n",
              " 26                                                                                                             \n",
              " 27  I realized that I should be more aware of what...                                                          \n",
              " 28                                                                                                             \n",
              " 29                                                                                                             \n",
              " 30                                                                                                             \n",
              " 33                                                                                                             \n",
              " 35                                                                                                             \n",
              " 36                                                                                                             \n",
              " 38  A lot of these data is being collected even wi...                                                          \n",
              " 39                                                                                                             \n",
              " 40  Always be cautious in posting sensitive inform...                                                          \n",
              " 41                                                                                                             \n",
              " 43                                                                                                             \n",
              " 11                                                NaN                                                          \n",
              " 16                                                NaN                                                          \n",
              " 20                                                NaN                                                          \n",
              " 25                                                NaN                                                          \n",
              " 31                                                NaN                                                          \n",
              " 32                                                NaN                                                          \n",
              " 34                                                NaN                                                          \n",
              " \n",
              "       Topic1    Topic2    Topic3    Topic4    Topic5    Topic6    Topic7  \\\n",
              " 0   0.007859  0.007858  0.007858  0.007858  0.937134  0.007859  0.007858   \n",
              " 1   0.005829  0.005829  0.005829  0.005828  0.005829  0.953371  0.005829   \n",
              " 2   0.111111  0.111111  0.111111  0.111111  0.111111  0.111111  0.111111   \n",
              " 3   0.005245  0.005245  0.005245  0.005247  0.005247  0.958034  0.005245   \n",
              " 4   0.006879  0.006879  0.006879  0.006879  0.006878  0.944971  0.006879   \n",
              " 5   0.000729  0.000729  0.000729  0.994167  0.000729  0.000729  0.000729   \n",
              " 6   0.111111  0.111111  0.111111  0.111111  0.111111  0.111111  0.111111   \n",
              " 7   0.001545  0.001545  0.001545  0.001545  0.001545  0.001545  0.001545   \n",
              " 8   0.005136  0.005137  0.005136  0.005137  0.958908  0.005137  0.005136   \n",
              " 9   0.002634  0.002634  0.002634  0.978926  0.002634  0.002634  0.002634   \n",
              " 10  0.001603  0.001603  0.001604  0.001604  0.001604  0.001603  0.001604   \n",
              " 12  0.111111  0.111111  0.111111  0.111111  0.111111  0.111111  0.111111   \n",
              " 13  0.111111  0.111111  0.111111  0.111111  0.111111  0.111111  0.111111   \n",
              " 14  0.004068  0.004068  0.004068  0.004068  0.004069  0.967454  0.004068   \n",
              " 15  0.111111  0.111111  0.111111  0.111111  0.111111  0.111111  0.111111   \n",
              " 17  0.111111  0.111111  0.111111  0.111111  0.111111  0.111111  0.111111   \n",
              " 18  0.111111  0.111111  0.111111  0.111111  0.111111  0.111111  0.111111   \n",
              " 19  0.003983  0.003982  0.003982  0.003982  0.003981  0.968145  0.003982   \n",
              " 21  0.111111  0.111111  0.111111  0.111111  0.111111  0.111111  0.111111   \n",
              " 22  0.111111  0.111111  0.111111  0.111111  0.111111  0.111111  0.111111   \n",
              " 23  0.004007  0.967937  0.004007  0.004009  0.004008  0.004008  0.004008   \n",
              " 24  0.111111  0.111111  0.111111  0.111111  0.111111  0.111111  0.111111   \n",
              " 26  0.111111  0.111111  0.111111  0.111111  0.111111  0.111111  0.111111   \n",
              " 27  0.111111  0.111111  0.111111  0.111111  0.111111  0.111111  0.111111   \n",
              " 28  0.111111  0.111111  0.111111  0.111111  0.111111  0.111111  0.111111   \n",
              " 29  0.111111  0.111111  0.111111  0.111111  0.111111  0.111111  0.111111   \n",
              " 30  0.978452  0.002693  0.002693  0.002693  0.002694  0.002694  0.002693   \n",
              " 33  0.111111  0.111111  0.111111  0.111111  0.111111  0.111111  0.111111   \n",
              " 35       NaN       NaN       NaN       NaN       NaN       NaN       NaN   \n",
              " 36       NaN       NaN       NaN       NaN       NaN       NaN       NaN   \n",
              " 38       NaN       NaN       NaN       NaN       NaN       NaN       NaN   \n",
              " 39       NaN       NaN       NaN       NaN       NaN       NaN       NaN   \n",
              " 40       NaN       NaN       NaN       NaN       NaN       NaN       NaN   \n",
              " 41       NaN       NaN       NaN       NaN       NaN       NaN       NaN   \n",
              " 43       NaN       NaN       NaN       NaN       NaN       NaN       NaN   \n",
              " 11  0.111111  0.111111  0.111111  0.111111  0.111111  0.111111  0.111111   \n",
              " 16  0.111111  0.111111  0.111111  0.111111  0.111111  0.111111  0.111111   \n",
              " 20  0.001090  0.001090  0.001090  0.001090  0.001090  0.991278  0.001090   \n",
              " 25  0.111111  0.111111  0.111111  0.111111  0.111111  0.111111  0.111111   \n",
              " 31  0.111111  0.111111  0.111111  0.111111  0.111111  0.111111  0.111111   \n",
              " 32  0.002772  0.002772  0.002772  0.002772  0.002772  0.977823  0.002772   \n",
              " 34  0.111111  0.111111  0.111111  0.111111  0.111111  0.111111  0.111111   \n",
              " \n",
              "       Topic8    Topic9  \n",
              " 0   0.007858  0.007858  \n",
              " 1   0.005828  0.005828  \n",
              " 2   0.111111  0.111111  \n",
              " 3   0.005245  0.005246  \n",
              " 4   0.006878  0.006878  \n",
              " 5   0.000729  0.000729  \n",
              " 6   0.111111  0.111111  \n",
              " 7   0.987637  0.001545  \n",
              " 8   0.005136  0.005136  \n",
              " 9   0.002634  0.002634  \n",
              " 10  0.001603  0.987172  \n",
              " 12  0.111111  0.111111  \n",
              " 13  0.111111  0.111111  \n",
              " 14  0.004068  0.004068  \n",
              " 15  0.111111  0.111111  \n",
              " 17  0.111111  0.111111  \n",
              " 18  0.111111  0.111111  \n",
              " 19  0.003982  0.003981  \n",
              " 21  0.111111  0.111111  \n",
              " 22  0.111111  0.111111  \n",
              " 23  0.004008  0.004007  \n",
              " 24  0.111111  0.111111  \n",
              " 26  0.111111  0.111111  \n",
              " 27  0.111111  0.111111  \n",
              " 28  0.111111  0.111111  \n",
              " 29  0.111111  0.111111  \n",
              " 30  0.002693  0.002693  \n",
              " 33  0.111111  0.111111  \n",
              " 35       NaN       NaN  \n",
              " 36       NaN       NaN  \n",
              " 38       NaN       NaN  \n",
              " 39       NaN       NaN  \n",
              " 40       NaN       NaN  \n",
              " 41       NaN       NaN  \n",
              " 43       NaN       NaN  \n",
              " 11  0.111111  0.111111  \n",
              " 16  0.111111  0.111111  \n",
              " 20  0.001090  0.001090  \n",
              " 25  0.111111  0.111111  \n",
              " 31  0.111111  0.111111  \n",
              " 32  0.002772  0.002772  \n",
              " 34  0.111111  0.111111  \n",
              " \n",
              " [42 rows x 23 columns],\n",
              " TfidfVectorizer(max_df=0.75, max_features=10000, norm=None, token_pattern=None,\n",
              "                 tokenizer=<function topic_modeling_lda.<locals>.tokenizer at 0x7c9294e91240>),\n",
              " <35x128 sparse matrix of type '<class 'numpy.float64'>'\n",
              " \twith 169 stored elements in Compressed Sparse Row format>)"
            ]
          },
          "metadata": {},
          "execution_count": 53
        }
      ]
    },
    {
      "cell_type": "markdown",
      "source": [],
      "metadata": {
        "id": "QZqd9gu5FabM"
      }
    }
  ]
}